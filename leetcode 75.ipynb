{
 "cells": [
  {
   "cell_type": "code",
   "execution_count": 96,
   "metadata": {},
   "outputs": [],
   "source": [
    "# # Array / String\n",
    "# Merge Strings Alternately\n",
    "# Solution\n",
    "# Easy\n",
    "\n",
    "# Greatest Common Divisor of Strings\n",
    "# Solution\n",
    "# Easy\n",
    "\n",
    "# Kids With the Greatest Number of Candies\n",
    "# Solution\n",
    "# Easy\n",
    "\n",
    "# Can Place Flowers\n",
    "# Solution\n",
    "# Easy\n",
    "\n",
    "# Reverse Vowels of a String\n",
    "# Solution\n",
    "# Easy\n",
    "\n",
    "# Reverse Words in a String\n",
    "# Solution\n",
    "# Medium\n",
    "\n",
    "# Product of Array Except Self\n",
    "# Solution\n",
    "# Medium\n",
    "\n",
    "# Increasing Triplet Subsequence\n",
    "# Solution\n",
    "# Medium\n",
    "\n",
    "# String Compression\n",
    "# Solution\n",
    "# Medium\n",
    "\n",
    "# Two Pointers\n",
    "# Move Zeroes\n",
    "# Solution\n",
    "# Easy\n",
    "\n",
    "# Is Subsequence\n",
    "# Solution\n",
    "# Easy\n",
    "\n",
    "# Container With Most Water\n",
    "# Solution\n",
    "# Medium\n",
    "\n",
    "# Max Number of K-Sum Pairs\n",
    "# Solution\n",
    "# Medium\n",
    "\n",
    "# Sliding Window\n",
    "# Maximum Average Subarray I\n",
    "# Solution\n",
    "# Easy\n",
    "\n",
    "# Maximum Number of Vowels in a Substring of Given Length\n",
    "# Solution\n",
    "# Medium\n",
    "\n",
    "# Max Consecutive Ones III\n",
    "# Solution\n",
    "# Medium\n",
    "\n",
    "# Longest Subarray of 1's After Deleting One Element\n",
    "# Solution\n",
    "# Medium\n",
    "\n",
    "# Prefix Sum\n",
    "# Find the Highest Altitude\n",
    "# Solution\n",
    "# Easy\n",
    "\n",
    "# Find Pivot Index\n",
    "# Solution\n",
    "# Easy\n",
    "\n",
    "# Hash Map / Set\n",
    "# Find the Difference of Two Arrays\n",
    "# Solution\n",
    "# Easy\n",
    "\n",
    "# Unique Number of Occurrences\n",
    "# Solution\n",
    "# Easy\n",
    "\n",
    "# Determine if Two Strings Are Close\n",
    "# Solution\n",
    "# Medium\n",
    "\n",
    "# Equal Row and Column Pairs\n",
    "# Solution\n",
    "# Medium\n",
    "\n",
    "# Stack\n",
    "# Removing Stars From a String\n",
    "# Solution\n",
    "# Medium\n",
    "\n",
    "# Asteroid Collision\n",
    "# Solution\n",
    "# Medium\n",
    "\n",
    "# Decode String\n",
    "# Solution\n",
    "# Medium\n",
    "\n",
    "# Queue\n",
    "# Number of Recent Calls\n",
    "# Solution\n",
    "# Easy\n",
    "\n",
    "# Dota2 Senate\n",
    "# Solution\n",
    "# Medium\n",
    "\n",
    "# Linked List\n",
    "# Delete the Middle Node of a Linked List\n",
    "# Solution\n",
    "# Medium\n",
    "\n",
    "# Odd Even Linked List\n",
    "# Solution\n",
    "# Medium\n",
    "\n",
    "# Reverse Linked List\n",
    "# Solution\n",
    "# Easy\n",
    "\n",
    "# Maximum Twin Sum of a Linked List\n",
    "# Solution\n",
    "# Medium\n",
    "\n",
    "# Binary Tree - DFS\n",
    "# Maximum Depth of Binary Tree\n",
    "# Solution\n",
    "# Easy\n",
    "\n",
    "# Leaf-Similar Trees\n",
    "# Solution\n",
    "# Easy\n",
    "\n",
    "# Count Good Nodes in Binary Tree\n",
    "# Solution\n",
    "# Medium\n",
    "\n",
    "# Path Sum III\n",
    "# Solution\n",
    "# Medium\n",
    "\n",
    "# Longest ZigZag Path in a Binary Tree\n",
    "# Solution\n",
    "# Medium\n",
    "\n",
    "# Lowest Common Ancestor of a Binary Tree\n",
    "# Solution\n",
    "# Medium\n",
    "\n",
    "# Binary Tree - BFS\n",
    "# Binary Tree Right Side View\n",
    "# Solution\n",
    "# Medium\n",
    "\n",
    "# Maximum Level Sum of a Binary Tree\n",
    "# Solution\n",
    "# Medium\n",
    "\n",
    "# Binary Search Tree\n",
    "# Search in a Binary Search Tree\n",
    "# Solution\n",
    "# Easy\n",
    "\n",
    "# Delete Node in a BST\n",
    "# Solution\n",
    "# Medium\n",
    "\n",
    "# Graphs - DFS\n",
    "# Keys and Rooms\n",
    "# Solution\n",
    "# Medium\n",
    "\n",
    "# Number of Provinces\n",
    "# Solution\n",
    "# Medium\n",
    "\n",
    "# Reorder Routes to Make All Paths Lead to the City Zero\n",
    "# Solution\n",
    "# Medium\n",
    "\n",
    "# Evaluate Division\n",
    "# Solution\n",
    "# Medium\n",
    "\n",
    "# Graphs - BFS\n",
    "# Nearest Exit from Entrance in Maze\n",
    "# Solution\n",
    "# Medium\n",
    "\n",
    "# Rotting Oranges\n",
    "# Solution\n",
    "# Medium\n",
    "\n",
    "# Heap / Priority Queue\n",
    "# Kth Largest Element in an Array\n",
    "# Solution\n",
    "# Medium\n",
    "\n",
    "# Smallest Number in Infinite Set\n",
    "# Solution\n",
    "# Medium\n",
    "\n",
    "# Maximum Subsequence Score\n",
    "# Solution\n",
    "# Medium\n",
    "\n",
    "# Total Cost to Hire K Workers\n",
    "# Solution\n",
    "# Medium\n",
    "\n",
    "# Binary Search\n",
    "# Guess Number Higher or Lower\n",
    "# Solution\n",
    "# Easy\n",
    "\n",
    "# Successful Pairs of Spells and Potions\n",
    "# Solution\n",
    "# Medium\n",
    "\n",
    "# Find Peak Element\n",
    "# Solution\n",
    "# Medium\n",
    "\n",
    "# Koko Eating Bananas\n",
    "# Solution\n",
    "# Medium\n",
    "\n",
    "# Backtracking\n",
    "# Letter Combinations of a Phone Number\n",
    "# Solution\n",
    "# Medium\n",
    "\n",
    "# Combination Sum III\n",
    "# Solution\n",
    "# Medium\n",
    "\n",
    "# DP - 1D\n",
    "# N-th Tribonacci Number\n",
    "# Solution\n",
    "# Easy\n",
    "\n",
    "# Min Cost Climbing Stairs\n",
    "# Solution\n",
    "# Easy\n",
    "\n",
    "# House Robber\n",
    "# Solution\n",
    "# Medium\n",
    "\n",
    "# Domino and Tromino Tiling\n",
    "# Solution\n",
    "# Medium\n",
    "\n",
    "# DP - Multidimensional\n",
    "# Unique Paths\n",
    "# Solution\n",
    "# Medium\n",
    "\n",
    "# Longest Common Subsequence\n",
    "# Solution\n",
    "# Medium\n",
    "\n",
    "# Best Time to Buy and Sell Stock with Transaction Fee\n",
    "# Solution\n",
    "# Medium\n",
    "\n",
    "# Edit Distance\n",
    "# Solution\n",
    "# Medium\n",
    "\n",
    "# Bit Manipulation\n",
    "# Counting Bits\n",
    "# Solution\n",
    "# Easy\n",
    "\n",
    "# Single Number\n",
    "# Solution\n",
    "# Easy\n",
    "\n",
    "# Minimum Flips to Make a OR b Equal to c\n",
    "# Solution\n",
    "# Medium\n",
    "\n",
    "# Trie\n",
    "# Implement Trie (Prefix Tree)\n",
    "# Solution\n",
    "# Medium\n",
    "\n",
    "# Search Suggestions System\n",
    "# Solution\n",
    "# Medium\n",
    "\n",
    "# Intervals\n",
    "# Non-overlapping Intervals\n",
    "# Solution\n",
    "# Medium\n",
    "\n",
    "# Minimum Number of Arrows to Burst Balloons\n",
    "# Solution\n",
    "# Medium\n",
    "\n",
    "# Monotonic Stack\n",
    "# Daily Temperatures\n",
    "# Solution\n",
    "# Medium\n",
    "\n",
    "# Online Stock Span\n",
    "# Solution\n",
    "# Medium"
   ]
  },
  {
   "cell_type": "code",
   "execution_count": 2,
   "metadata": {},
   "outputs": [],
   "source": [
    "# 1768. Merge Strings Alternately\n",
    "\n",
    "# You are given two strings word1 and word2. Merge the strings by adding letters in alternating order, starting with word1. If a string is longer than the other, append the additional letters onto the end of the merged string.\n",
    "\n",
    "# Return the merged string.\n",
    "\n",
    " \n",
    "\n",
    "# Example 1:\n",
    "\n",
    "# Input: word1 = \"abc\", word2 = \"pqr\"\n",
    "# Output: \"apbqcr\"\n",
    "# Explanation: The merged string will be merged as so:\n",
    "# word1:  a   b   c\n",
    "# word2:    p   q   r\n",
    "# merged: a p b q c r"
   ]
  },
  {
   "cell_type": "code",
   "execution_count": 8,
   "metadata": {},
   "outputs": [],
   "source": [
    "def mergeAlternately(word1: str, word2: str):\n",
    "    ans = ''\n",
    "    n = len(word1)\n",
    "    m = len(word2)\n",
    "    l = j = 0\n",
    "    while l < n or j < m:\n",
    "        if l < n:\n",
    "            ans += word1[l]\n",
    "            l += 1\n",
    "        if j < m:\n",
    "            ans += word2[j]\n",
    "            j += 1\n",
    "    \n",
    "    return ans\n"
   ]
  },
  {
   "cell_type": "code",
   "execution_count": 9,
   "metadata": {},
   "outputs": [
    {
     "name": "stdout",
     "output_type": "stream",
     "text": [
      "apbqcr\n"
     ]
    }
   ],
   "source": [
    "word1 = \"abc\"\n",
    "word2 = \"pqr\"\n",
    "\n",
    "ans = mergeAlternately(word1, word2)\n",
    "print(ans)"
   ]
  },
  {
   "cell_type": "code",
   "execution_count": 14,
   "metadata": {},
   "outputs": [],
   "source": [
    "def mergeAlternately2(word1: str, word2: str):\n",
    "    ans = ''\n",
    "    n = len(word1)\n",
    "    m = len(word2)\n",
    "    for i in range(max(n, m)):\n",
    "        if i < n:\n",
    "            ans += word1[i]\n",
    "        if i < m:\n",
    "            ans += word2[i]\n",
    "        i += 1\n",
    "    return ans "
   ]
  },
  {
   "cell_type": "code",
   "execution_count": 15,
   "metadata": {},
   "outputs": [
    {
     "name": "stdout",
     "output_type": "stream",
     "text": [
      "apbqcr\n"
     ]
    }
   ],
   "source": [
    "word1 = \"abc\"\n",
    "word2 = \"pqr\"\n",
    "\n",
    "ans = mergeAlternately2(word1, word2)\n",
    "print(ans)"
   ]
  },
  {
   "cell_type": "code",
   "execution_count": null,
   "metadata": {},
   "outputs": [],
   "source": []
  },
  {
   "cell_type": "code",
   "execution_count": 16,
   "metadata": {},
   "outputs": [],
   "source": [
    "# 1071. Greatest Common Divisor of Strings\n",
    "\n",
    "# For two strings s and t, we say \"t divides s\" if and only if s = t + ... + t (i.e., t is concatenated with itself one or more times).\n",
    "\n",
    "# Given two strings str1 and str2, return the largest string x such that x divides both str1 and str2.\n",
    "\n",
    " \n",
    "\n",
    "# Example 1:\n",
    "\n",
    "# Input: str1 = \"ABCABC\", str2 = \"ABC\"\n",
    "# Output: \"ABC\"\n",
    "# Example 2:\n",
    "\n",
    "# Input: str1 = \"ABABAB\", str2 = \"ABAB\"\n",
    "# Output: \"AB\"\n"
   ]
  },
  {
   "cell_type": "code",
   "execution_count": 31,
   "metadata": {},
   "outputs": [
    {
     "name": "stdout",
     "output_type": "stream",
     "text": [
      "True\n"
     ]
    }
   ],
   "source": [
    "def help(string, gcd):\n",
    "    n = len(gcd)\n",
    "    for i in range(len(string)):\n",
    "        if string[i] != gcd[i % n]:\n",
    "            return False\n",
    "    return True\n",
    "\n",
    "print(help(\"ABC\", \"ABC\"))"
   ]
  },
  {
   "cell_type": "code",
   "execution_count": 32,
   "metadata": {},
   "outputs": [],
   "source": [
    "def gcdOfStrings(str1: str, str2: str):\n",
    "    gcd = ''\n",
    "    n = len(str1)\n",
    "    m = len(str2)\n",
    "    \n",
    "    def help(string, gcd):\n",
    "        n = len(gcd)\n",
    "        for i in range(len(string)):\n",
    "            if string[i] != gcd[i % n]:\n",
    "                return False\n",
    "        return True\n",
    "                \n",
    "    \n",
    "    for i in range(min(n, m), 0, -1):\n",
    "        if help(str1, str1[:i]) and help(str2, str1[:i]):\n",
    "            return str1[:i]\n",
    "                \n",
    "    "
   ]
  },
  {
   "cell_type": "code",
   "execution_count": 33,
   "metadata": {},
   "outputs": [
    {
     "name": "stdout",
     "output_type": "stream",
     "text": [
      "ABC\n"
     ]
    }
   ],
   "source": [
    "str1 = \"ABCABC\"\n",
    "str2 = \"ABC\"\n",
    "\n",
    "\n",
    "print(gcdOfStrings(str1, str2))"
   ]
  },
  {
   "cell_type": "code",
   "execution_count": 36,
   "metadata": {},
   "outputs": [],
   "source": [
    "def gcdOfStrings(str1: str, str2: str):\n",
    "    gcd = ''\n",
    "    n, m = len(str1), len(str2)\n",
    "    def help(string, gcd):\n",
    "        len_gcd = len(gcd)\n",
    "        if len(string) % len_gcd != 0:\n",
    "            return False\n",
    "        for i in range(len(string)):\n",
    "            if string[i] != gcd[i%len_gcd]:\n",
    "                return False\n",
    "        return True\n",
    "\n",
    "    for i in range(min(n, m), 0, -1):\n",
    "        if help(str1, str1[:i]) and help(str2, str1[:i]):\n",
    "            return str1[:i]\n",
    "    return ''"
   ]
  },
  {
   "cell_type": "code",
   "execution_count": 38,
   "metadata": {},
   "outputs": [
    {
     "name": "stdout",
     "output_type": "stream",
     "text": [
      "ABAB\n"
     ]
    }
   ],
   "source": [
    "str1 = \"ABABAB\"\n",
    "str2 = \"ABAB\"\n",
    "\n",
    "\n",
    "print(gcdOfStrings(str1, str2))"
   ]
  },
  {
   "cell_type": "code",
   "execution_count": null,
   "metadata": {},
   "outputs": [],
   "source": []
  },
  {
   "cell_type": "code",
   "execution_count": null,
   "metadata": {},
   "outputs": [],
   "source": []
  },
  {
   "cell_type": "code",
   "execution_count": 39,
   "metadata": {},
   "outputs": [],
   "source": [
    "# 1431. Kids With the Greatest Number of Candies\n",
    "# There are n kids with candies. You are given an integer array candies, where each candies[i] represents the number of candies the ith kid has, and an integer extraCandies, denoting the number of extra candies that you have.\n",
    "\n",
    "# Return a boolean array result of length n, where result[i] is true if, after giving the ith kid all the extraCandies, they will have the greatest number of candies among all the kids, or false otherwise.\n",
    "\n",
    "# Note that multiple kids can have the greatest number of candies.\n",
    "\n",
    " \n",
    "\n",
    "# Example 1:\n",
    "\n",
    "# Input: candies = [2,3,5,1,3], extraCandies = 3\n",
    "# Output: [true,true,true,false,true] \n",
    "# Explanation: If you give all extraCandies to:\n",
    "# - Kid 1, they will have 2 + 3 = 5 candies, which is the greatest among the kids.\n",
    "# - Kid 2, they will have 3 + 3 = 6 candies, which is the greatest among the kids.\n",
    "# - Kid 3, they will have 5 + 3 = 8 candies, which is the greatest among the kids.\n",
    "# - Kid 4, they will have 1 + 3 = 4 candies, which is not the greatest among the kids.\n",
    "# - Kid 5, they will have 3 + 3 = 6 candies, which is the greatest among the kids."
   ]
  },
  {
   "cell_type": "code",
   "execution_count": 42,
   "metadata": {},
   "outputs": [],
   "source": [
    "def kidsWithCandies(candies, extraCandies: int):\n",
    "    greatest = max(candies)\n",
    "    resu = []\n",
    "    for can in candies:\n",
    "        if can + extraCandies >= greatest:\n",
    "            resu.append(True)\n",
    "        else:\n",
    "            resu.append(False)\n",
    "    return resu"
   ]
  },
  {
   "cell_type": "code",
   "execution_count": 43,
   "metadata": {},
   "outputs": [
    {
     "name": "stdout",
     "output_type": "stream",
     "text": [
      "[True, True, True, False, True]\n"
     ]
    }
   ],
   "source": [
    "candies = [2,3,5,1,3]\n",
    "extraCandies = 3\n",
    "print(kidsWithCandies(candies, extraCandies))"
   ]
  },
  {
   "cell_type": "code",
   "execution_count": null,
   "metadata": {},
   "outputs": [],
   "source": []
  },
  {
   "cell_type": "code",
   "execution_count": null,
   "metadata": {},
   "outputs": [],
   "source": []
  },
  {
   "cell_type": "code",
   "execution_count": 44,
   "metadata": {},
   "outputs": [],
   "source": [
    "# 605. Can Place Flowers\n",
    "\n",
    "\n",
    "\n",
    "# You have a long flowerbed in which some of the plots are planted, and some are not. However, flowers cannot be planted in adjacent plots.\n",
    "\n",
    "# Given an integer array flowerbed containing 0's and 1's, where 0 means empty and 1 means not empty, and an integer n, return true if n new flowers can be planted in the flowerbed without violating the no-adjacent-flowers rule and false otherwise.\n",
    "\n",
    " \n",
    "\n",
    "# Example 1:\n",
    "\n",
    "# Input: flowerbed = [1,0,0,0,1], n = 1\n",
    "# Output: true\n",
    "\n",
    "\n",
    "#                 # Check if the left and right plots are empty.\n",
    "#                 empty_left_plot = (i == 0) or (flowerbed[i - 1] == 0)\n",
    "#                 empty_right_lot = (i == len(flowerbed) - 1) or (flowerbed[i + 1] == 0)\n",
    "                \n",
    "#                 # If both plots are empty, we can plant a flower here.\n",
    "#                 if empty_left_plot and empty_right_lot:\n",
    "#                     flowerbed[i] = 1\n",
    "#                     count += 1"
   ]
  },
  {
   "cell_type": "code",
   "execution_count": null,
   "metadata": {},
   "outputs": [],
   "source": [
    "def canPlaceFlowers(flowerbed, n: int):\n",
    "    num = len(flowerbed)\n",
    "    i = 0\n",
    "    while i < num-2:\n",
    "        if flowerbed[i] == 1 and flowerbed[i+1] == 0 and flowerbed[i+2] == 0 and flowerbed[i+3] == 0:\n",
    "            n -= 1\n",
    "            i += 2\n",
    "        elif flowerbed[i] == 0 and flowerbed[i+1] == 0 and flowerbed[i+2] == 1:\n",
    "            n -= 1\n",
    "            i += 2\n",
    "        "
   ]
  },
  {
   "cell_type": "code",
   "execution_count": 51,
   "metadata": {},
   "outputs": [],
   "source": [
    "def canPlaceFlowers(flowerbed, n: int):\n",
    "    count = 0\n",
    "    for i in range(len(flowerbed)):\n",
    "        if flowerbed[i] == 0:\n",
    "            empty_left = (i == 0) or (flowerbed[i-1] == 0)\n",
    "            empty_right = (i == len(flowerbed) - 1) or (flowerbed[i+1] == 0)\n",
    "            \n",
    "            if empty_left and empty_right:\n",
    "                flowerbed[i] = 1\n",
    "                count += 1\n",
    "    return count >= n"
   ]
  },
  {
   "cell_type": "code",
   "execution_count": 52,
   "metadata": {},
   "outputs": [
    {
     "name": "stdout",
     "output_type": "stream",
     "text": [
      "True\n"
     ]
    }
   ],
   "source": [
    "flowerbed = [0,0,1,0,0]\n",
    "n = 1\n",
    "print(canPlaceFlowers(flowerbed, n))"
   ]
  },
  {
   "cell_type": "code",
   "execution_count": null,
   "metadata": {},
   "outputs": [],
   "source": []
  },
  {
   "cell_type": "code",
   "execution_count": null,
   "metadata": {},
   "outputs": [],
   "source": []
  },
  {
   "cell_type": "code",
   "execution_count": 53,
   "metadata": {},
   "outputs": [],
   "source": [
    "# 345. Reverse Vowels of a String\n",
    "\n",
    "\n",
    "# Given a string s, reverse only all the vowels in the string and return it.\n",
    "\n",
    "# The vowels are 'a', 'e', 'i', 'o', and 'u', and they can appear in both lower and upper cases, more than once.\n",
    "\n",
    " "
   ]
  },
  {
   "cell_type": "code",
   "execution_count": 62,
   "metadata": {},
   "outputs": [],
   "source": [
    "def reverseVowels(s: str):\n",
    "    vowels = ['a','e','i','o','u','A','E','I','O','U']\n",
    "    start = 0\n",
    "    end = len(s) - 1\n",
    "    s_list = list(s)\n",
    "    while start < end:\n",
    "        while start < len(s) -1 and s[start] not in vowels:\n",
    "            start += 1\n",
    "        while end > 0 and s[end] not in vowels:\n",
    "            end -= 1\n",
    "        if start < end:\n",
    "            print(s[start], s[end])\n",
    "            print(start, end)\n",
    "            s_list[start], s_list[end] = s_list[end], s_list[start]\n",
    "            start += 1\n",
    "            end -= 1\n",
    "    return ''.join(s_list)\n",
    "\n"
   ]
  },
  {
   "cell_type": "code",
   "execution_count": 63,
   "metadata": {},
   "outputs": [
    {
     "name": "stdout",
     "output_type": "stream",
     "text": [
      "e e\n",
      "1 7\n",
      "e o\n",
      "2 5\n",
      "leotcede\n"
     ]
    }
   ],
   "source": [
    "s = 'leetcode'\n",
    "print(reverseVowels(s))"
   ]
  },
  {
   "cell_type": "code",
   "execution_count": null,
   "metadata": {},
   "outputs": [],
   "source": []
  },
  {
   "cell_type": "code",
   "execution_count": null,
   "metadata": {},
   "outputs": [],
   "source": []
  },
  {
   "cell_type": "code",
   "execution_count": null,
   "metadata": {},
   "outputs": [],
   "source": []
  },
  {
   "cell_type": "code",
   "execution_count": 64,
   "metadata": {},
   "outputs": [],
   "source": [
    "# 151. Reverse Words in a String\n",
    "\n",
    "\n",
    "# Given an input string s, reverse the order of the words.\n",
    "\n",
    "# A word is defined as a sequence of non-space characters. The words in s will be separated by at least one space.\n",
    "\n",
    "# Return a string of the words in reverse order concatenated by a single space.\n",
    "\n",
    "# Note that s may contain leading or trailing spaces or multiple spaces between two words. The returned string should only have a single space separating the words. Do not include any extra spaces.\n",
    "\n",
    " \n",
    "\n",
    "# Example 1:\n",
    "\n",
    "# Input: s = \"the sky is blue\"\n",
    "# Output: \"blue is sky the\"\n",
    "# Example 2:\n",
    "\n",
    "# Input: s = \"  hello world  \"\n",
    "# Output: \"world hello\"\n",
    "# Explanation: Your reversed string should not contain leading or trailing spaces."
   ]
  },
  {
   "cell_type": "code",
   "execution_count": 65,
   "metadata": {},
   "outputs": [],
   "source": [
    "def reverseWords(s: str):\n",
    "    s_list = [word for word in s.split(' ') if len(word) > 0]\n",
    "    start = 0\n",
    "    end = len(s_list) - 1\n",
    "    while start < end:\n",
    "        s_list[start], s_list[end] = s_list[end], s_list[start]\n",
    "        start, end = start + 1, end - 1\n",
    "    return ' '.join(s_list)"
   ]
  },
  {
   "cell_type": "code",
   "execution_count": 66,
   "metadata": {},
   "outputs": [
    {
     "name": "stdout",
     "output_type": "stream",
     "text": [
      "world hello\n"
     ]
    }
   ],
   "source": [
    "s = \"  hello world  \"\n",
    "print(reverseWords(s))"
   ]
  },
  {
   "cell_type": "code",
   "execution_count": 71,
   "metadata": {},
   "outputs": [],
   "source": [
    "def reverseWords(s: str) -> str:\n",
    "    return \" \".join(reversed(s.split()))"
   ]
  },
  {
   "cell_type": "code",
   "execution_count": 75,
   "metadata": {},
   "outputs": [
    {
     "data": {
      "text/plain": [
       "['hello', 'world']"
      ]
     },
     "execution_count": 75,
     "metadata": {},
     "output_type": "execute_result"
    }
   ],
   "source": [
    "s = \"  hello world  \"\n",
    "s.split()"
   ]
  },
  {
   "cell_type": "code",
   "execution_count": null,
   "metadata": {},
   "outputs": [],
   "source": []
  },
  {
   "cell_type": "code",
   "execution_count": null,
   "metadata": {},
   "outputs": [],
   "source": []
  },
  {
   "cell_type": "code",
   "execution_count": null,
   "metadata": {},
   "outputs": [],
   "source": []
  },
  {
   "cell_type": "code",
   "execution_count": 76,
   "metadata": {},
   "outputs": [],
   "source": [
    "# 238. Product of Array Except Self\n",
    "\n",
    "\n",
    "# Given an integer array nums, return an array answer such that answer[i] is equal to the product of all the elements of nums except nums[i].\n",
    "\n",
    "# The product of any prefix or suffix of nums is guaranteed to fit in a 32-bit integer.\n",
    "\n",
    "# You must write an algorithm that runs in O(n) time and without using the division operation.\n",
    "\n",
    " \n",
    "\n",
    "# Example 1:\n",
    "\n",
    "# Input: nums = [1,2,3,4]\n",
    "# Output: [24,12,8,6]\n",
    "# Example 2:\n",
    "\n",
    "# Input: nums = [-1,1,0,-3,3]\n",
    "# Output: [0,0,9,0,0]"
   ]
  },
  {
   "cell_type": "code",
   "execution_count": 5,
   "metadata": {},
   "outputs": [],
   "source": [
    "def productExceptSelf(nums):\n",
    "    n = len(nums)\n",
    "    L, R, ans = [0]*n, [0]*n, [0]*n\n",
    "    L[0] = 1\n",
    "    for i in range(1, n):\n",
    "        L[i] = nums[i-1] * L[i-1]\n",
    "    R[n-1] = 1\n",
    "    for i in range(n-2, -1, -1):\n",
    "        R[i] = R[i+1] * nums[i+1]\n",
    "    \n",
    "    for i in range(n):\n",
    "        ans[i] = L[i] * R[i]\n",
    "    \n",
    "    return ans"
   ]
  },
  {
   "cell_type": "code",
   "execution_count": 6,
   "metadata": {},
   "outputs": [
    {
     "name": "stdout",
     "output_type": "stream",
     "text": [
      "[24, 12, 8, 6]\n"
     ]
    }
   ],
   "source": [
    "nums = [1,2,3,4]\n",
    "resu = productExceptSelf(nums)\n",
    "print(resu)"
   ]
  },
  {
   "cell_type": "code",
   "execution_count": 4,
   "metadata": {},
   "outputs": [
    {
     "name": "stdout",
     "output_type": "stream",
     "text": [
      "3\n",
      "2\n",
      "1\n",
      "0\n"
     ]
    }
   ],
   "source": [
    "n = 4\n",
    "for i in range(n-1, -1, -1):\n",
    "    print(i)"
   ]
  },
  {
   "cell_type": "code",
   "execution_count": 15,
   "metadata": {},
   "outputs": [],
   "source": [
    "def productExceptSelf(nums):\n",
    "    length = len(nums)\n",
    "    ans = [0] * length\n",
    "    \n",
    "    ans[0] = 1\n",
    "    for i in range(1, length):\n",
    "        ans[i] = ans[i-1] * nums[i-1]\n",
    "    \n",
    "    R = 1\n",
    "    for i in range(length-1, -1, -1):\n",
    "        ans[i] = ans[i] * R\n",
    "        R = R * nums[i]\n",
    "    \n",
    "    return ans "
   ]
  },
  {
   "cell_type": "code",
   "execution_count": 16,
   "metadata": {},
   "outputs": [
    {
     "name": "stdout",
     "output_type": "stream",
     "text": [
      "[24, 12, 8, 6]\n"
     ]
    }
   ],
   "source": [
    "nums = [1,2,3,4]\n",
    "resu = productExceptSelf(nums)\n",
    "print(resu)"
   ]
  },
  {
   "cell_type": "code",
   "execution_count": null,
   "metadata": {},
   "outputs": [],
   "source": []
  },
  {
   "cell_type": "code",
   "execution_count": null,
   "metadata": {},
   "outputs": [],
   "source": []
  },
  {
   "cell_type": "code",
   "execution_count": 17,
   "metadata": {},
   "outputs": [],
   "source": [
    "# 334. Increasing Triplet Subsequence\n",
    "# Given an integer array nums, return true if there exists a triple of indices (i, j, k) such that i < j < k and nums[i] < nums[j] < nums[k]. If no such indices exists, return false.\n",
    "\n",
    " \n",
    "\n",
    "# Example 1:\n",
    "\n",
    "# Input: nums = [1,2,3,4,5]\n",
    "# Output: true\n",
    "# Explanation: Any triplet where i < j < k is valid.\n",
    "# Example 2:\n",
    "\n",
    "# Input: nums = [5,4,3,2,1]\n",
    "# Output: false\n",
    "# Explanation: No triplet exists.\n",
    "# Example 3:\n",
    "\n",
    "# Input: nums = [2,1,5,0,4,6]\n",
    "# Output: true\n",
    "# Explanation: The triplet (3, 4, 5) is valid because nums[3] == 0 < nums[4] == 4 < nums[5] == 6.\n"
   ]
  },
  {
   "cell_type": "code",
   "execution_count": 23,
   "metadata": {},
   "outputs": [],
   "source": [
    "def increasingTriplet(nums):\n",
    "    i = 0\n",
    "    while i < len(nums) - 2:\n",
    "        if nums[i] < nums[i+1] and nums[i+1] < nums[i+2]:\n",
    "            return True\n",
    "        else:\n",
    "            i += 1\n",
    "    return False"
   ]
  },
  {
   "cell_type": "code",
   "execution_count": 24,
   "metadata": {},
   "outputs": [
    {
     "name": "stdout",
     "output_type": "stream",
     "text": [
      "False\n"
     ]
    }
   ],
   "source": [
    "nums = [20,100,10,12,5,13]\n",
    "resu = increasingTriplet(nums)\n",
    "print(resu)"
   ]
  },
  {
   "cell_type": "code",
   "execution_count": 25,
   "metadata": {},
   "outputs": [],
   "source": [
    "def increasingTriplet(nums):\n",
    "    first_num = float('inf')\n",
    "    second_num = float('inf')\n",
    "    for n in nums:\n",
    "        if n<= first_num:\n",
    "            first_num = n\n",
    "        elif n <= second_num:\n",
    "            second_num = n\n",
    "        else:\n",
    "            return True\n",
    "    return False"
   ]
  },
  {
   "cell_type": "code",
   "execution_count": 26,
   "metadata": {},
   "outputs": [
    {
     "name": "stdout",
     "output_type": "stream",
     "text": [
      "True\n"
     ]
    }
   ],
   "source": [
    "nums = [20,100,10,12,5,13]\n",
    "resu = increasingTriplet(nums)\n",
    "print(resu)"
   ]
  },
  {
   "cell_type": "code",
   "execution_count": null,
   "metadata": {},
   "outputs": [],
   "source": []
  },
  {
   "cell_type": "code",
   "execution_count": 27,
   "metadata": {},
   "outputs": [],
   "source": [
    "# 443. String Compression\n",
    "\n",
    "\n",
    "# Given an array of characters chars, compress it using the following algorithm:\n",
    "\n",
    "# Begin with an empty string s. For each group of consecutive repeating characters in chars:\n",
    "\n",
    "# If the group's length is 1, append the character to s.\n",
    "# Otherwise, append the character followed by the group's length.\n",
    "# The compressed string s should not be returned separately, but instead, be stored in the input character array chars. Note that group lengths that are 10 or longer will be split into multiple characters in chars.\n",
    "\n",
    "# After you are done modifying the input array, return the new length of the array.\n",
    "\n",
    "# You must write an algorithm that uses only constant extra space.\n",
    "\n",
    " \n",
    "\n",
    "# Example 1:\n",
    "\n",
    "# Input: chars = [\"a\",\"a\",\"b\",\"b\",\"c\",\"c\",\"c\"]\n",
    "# Output: Return 6, and the first 6 characters of the input array should be: [\"a\",\"2\",\"b\",\"2\",\"c\",\"3\"]\n",
    "# Explanation: The groups are \"aa\", \"bb\", and \"ccc\". This compresses to \"a2b2c3\".\n",
    "# Example 2:\n",
    "\n",
    "# Input: chars = [\"a\"]\n",
    "# Output: Return 1, and the first character of the input array should be: [\"a\"]\n",
    "# Explanation: The only group is \"a\", which remains uncompressed since it's a single character.\n",
    "# Example 3:\n",
    "\n",
    "# Input: chars = [\"a\",\"b\",\"b\",\"b\",\"b\",\"b\",\"b\",\"b\",\"b\",\"b\",\"b\",\"b\",\"b\"]\n",
    "# Output: Return 4, and the first 4 characters of the input array should be: [\"a\",\"b\",\"1\",\"2\"].\n",
    "# Explanation: The groups are \"a\" and \"bbbbbbbbbbbb\". This compresses to \"ab12\".\n"
   ]
  },
  {
   "cell_type": "code",
   "execution_count": 28,
   "metadata": {},
   "outputs": [],
   "source": [
    "def compress(chars):\n",
    "    ans = 0\n",
    "    i = 0\n",
    "    while i < len(chars):\n",
    "        letter = chars[i]\n",
    "        count = 0\n",
    "        while i < len(chars) and chars[i] == letter:\n",
    "            count += 1\n",
    "            i += 1\n",
    "        chars[ans] = letter\n",
    "        ans += 1\n",
    "        \n",
    "        if count > 1:\n",
    "            for c in str(count):\n",
    "                chars[ans] = c\n",
    "                ans += 1\n",
    "    return ans"
   ]
  },
  {
   "cell_type": "code",
   "execution_count": 29,
   "metadata": {},
   "outputs": [
    {
     "name": "stdout",
     "output_type": "stream",
     "text": [
      "6\n"
     ]
    }
   ],
   "source": [
    "chars = [\"a\",\"a\",\"b\",\"b\",\"c\",\"c\",\"c\"]\n",
    "resu = compress(chars)\n",
    "print(resu)"
   ]
  },
  {
   "cell_type": "code",
   "execution_count": 45,
   "metadata": {},
   "outputs": [],
   "source": [
    "def compress(chars):\n",
    "    dic = {}\n",
    "    \n",
    "    for char in chars:\n",
    "        if char not in dic.keys():\n",
    "            dic[char] = 1\n",
    "        else:\n",
    "            dic[char] += 1\n",
    "    arr = ''\n",
    "    for key, val in dic.items():\n",
    "        if val == 1:\n",
    "            arr += key\n",
    "        else:\n",
    "            arr += key\n",
    "            arr += str(val)\n",
    "\n",
    "    return list(arr)"
   ]
  },
  {
   "cell_type": "code",
   "execution_count": 48,
   "metadata": {},
   "outputs": [
    {
     "name": "stdout",
     "output_type": "stream",
     "text": [
      "['a', 'b', '1', '2']\n"
     ]
    }
   ],
   "source": [
    "chars = [\"a\",\"b\",\"b\",\"b\",\"b\",\"b\",\"b\",\"b\",\"b\",\"b\",\"b\",\"b\",\"b\"]\n",
    "resu = compress(chars)\n",
    "print(resu)"
   ]
  },
  {
   "cell_type": "code",
   "execution_count": 37,
   "metadata": {},
   "outputs": [
    {
     "data": {
      "text/plain": [
       "'a2b2c3'"
      ]
     },
     "execution_count": 37,
     "metadata": {},
     "output_type": "execute_result"
    }
   ],
   "source": []
  },
  {
   "cell_type": "code",
   "execution_count": null,
   "metadata": {},
   "outputs": [],
   "source": []
  },
  {
   "cell_type": "code",
   "execution_count": null,
   "metadata": {},
   "outputs": [],
   "source": []
  },
  {
   "cell_type": "code",
   "execution_count": null,
   "metadata": {},
   "outputs": [],
   "source": []
  },
  {
   "cell_type": "code",
   "execution_count": null,
   "metadata": {},
   "outputs": [],
   "source": []
  },
  {
   "cell_type": "code",
   "execution_count": null,
   "metadata": {},
   "outputs": [],
   "source": []
  },
  {
   "cell_type": "code",
   "execution_count": null,
   "metadata": {},
   "outputs": [],
   "source": []
  },
  {
   "cell_type": "code",
   "execution_count": null,
   "metadata": {},
   "outputs": [],
   "source": []
  },
  {
   "cell_type": "markdown",
   "metadata": {},
   "source": [
    "# Two Pointers"
   ]
  },
  {
   "cell_type": "code",
   "execution_count": 49,
   "metadata": {},
   "outputs": [],
   "source": [
    "# 283. Move Zeroes\n",
    "\n",
    "\n",
    "# Given an integer array nums, move all 0's to the end of it while maintaining the relative order of the non-zero elements.\n",
    "\n",
    "# Note that you must do this in-place without making a copy of the array.\n",
    "\n",
    " \n",
    "\n",
    "# Example 1:\n",
    "\n",
    "# Input: nums = [0,1,0,3,12]\n",
    "# Output: [1,3,12,0,0]\n",
    "# Example 2:\n",
    "\n",
    "# Input: nums = [0]\n",
    "# Output: [0]"
   ]
  },
  {
   "cell_type": "code",
   "execution_count": null,
   "metadata": {},
   "outputs": [],
   "source": [
    "def moveZeroes(nums):\n",
    "    \"\"\"\n",
    "    Do not return anything, modify nums in-place instead.\n",
    "    \"\"\"\n",
    "    # two pointer\n",
    "    i = 0\n",
    "    if len(nums) <= 1:\n",
    "        return nums\n",
    "    \n",
    "    for i in range(len(nums)):\n",
    "        if nums[i] != 0:\n",
    "            continue\n",
    "        else:\n",
    "            for j in range(i+1, len(nums)):\n",
    "                if nums[j] != 0:\n",
    "                    nums[i], nums[j] = nums[j], nums[i]"
   ]
  },
  {
   "cell_type": "code",
   "execution_count": null,
   "metadata": {},
   "outputs": [],
   "source": []
  },
  {
   "cell_type": "code",
   "execution_count": 50,
   "metadata": {},
   "outputs": [],
   "source": [
    "# 392. Is Subsequence\n",
    "\n",
    "\n",
    "# Given two strings s and t, return true if s is a subsequence of t, or false otherwise.\n",
    "\n",
    "# A subsequence of a string is a new string that is formed from the original string by deleting some (can be none) of the characters without disturbing the relative positions of the remaining characters. (i.e., \"ace\" is a subsequence of \"abcde\" while \"aec\" is not).\n",
    "\n",
    " \n",
    "\n",
    "# Example 1:\n",
    "\n",
    "# Input: s = \"abc\", t = \"ahbgdc\"\n",
    "# Output: true\n",
    "# Example 2:\n",
    "\n",
    "# Input: s = \"axc\", t = \"ahbgdc\"\n",
    "# Output: false"
   ]
  },
  {
   "cell_type": "code",
   "execution_count": 55,
   "metadata": {},
   "outputs": [],
   "source": [
    "def isSubsequence(s, t):\n",
    "    s_pointer = 0\n",
    "    if len(s) > len(t):\n",
    "        return False\n",
    "    \n",
    "    for t_pointer in range(len(t)):\n",
    "        if s_pointer == len(s):\n",
    "            break\n",
    "        if s[s_pointer] == t[t_pointer]:\n",
    "            s_pointer += 1\n",
    "    \n",
    "    if s_pointer == len(s):\n",
    "        return True\n",
    "    else:\n",
    "        return False\n",
    "    "
   ]
  },
  {
   "cell_type": "code",
   "execution_count": 56,
   "metadata": {},
   "outputs": [
    {
     "name": "stdout",
     "output_type": "stream",
     "text": [
      "True\n"
     ]
    }
   ],
   "source": [
    "s = \"b\"\n",
    "t = \"abc\"\n",
    "resu = isSubsequence(s, t)\n",
    "print(resu)"
   ]
  },
  {
   "cell_type": "code",
   "execution_count": 58,
   "metadata": {},
   "outputs": [],
   "source": [
    "def isSubsequence(s, t):\n",
    "    # divide and conquer\n",
    "    s_length, t_length = len(s), len(t)\n",
    "    \n",
    "    def rec_subsequence(s_index, t_index):\n",
    "        if s_index == s_length:\n",
    "            return True\n",
    "        if t_index == t_length:\n",
    "            return False\n",
    "        if s[s_index] == t[t_index]:\n",
    "            s_index += 1\n",
    "        t_index += 1\n",
    "        \n",
    "        return rec_subsequence(s_index, t_index)\n",
    "    \n",
    "    return rec_subsequence(0, 0)\n",
    "    \n",
    "    \n",
    "    \n",
    "    \n",
    "    \n",
    "    \n",
    "    \n",
    "    \n",
    "    "
   ]
  },
  {
   "cell_type": "code",
   "execution_count": 62,
   "metadata": {},
   "outputs": [
    {
     "name": "stdout",
     "output_type": "stream",
     "text": [
      "True\n"
     ]
    }
   ],
   "source": [
    "s = \"ac\"\n",
    "t = \"abc\"\n",
    "resu = isSubsequence(s, t)\n",
    "print(resu)"
   ]
  },
  {
   "cell_type": "code",
   "execution_count": 63,
   "metadata": {},
   "outputs": [],
   "source": [
    "# two pointer\n",
    "\n",
    "def isSubsequence(s, t):\n",
    "    s_length, t_length = len(s), len(t)\n",
    "    s_index, t_index = 0, 0 \n",
    "    while s_index < s_length and t_index < t_length:\n",
    "        if s[s_index] == t[t_index]:\n",
    "            s_index += 1\n",
    "        t_index += 1\n",
    "    \n",
    "    return s_index == s_length"
   ]
  },
  {
   "cell_type": "code",
   "execution_count": 64,
   "metadata": {},
   "outputs": [
    {
     "name": "stdout",
     "output_type": "stream",
     "text": [
      "True\n"
     ]
    }
   ],
   "source": [
    "s = \"ac\"\n",
    "t = \"abc\"\n",
    "resu = isSubsequence(s, t)\n",
    "print(resu)"
   ]
  },
  {
   "cell_type": "code",
   "execution_count": null,
   "metadata": {},
   "outputs": [],
   "source": []
  },
  {
   "cell_type": "code",
   "execution_count": null,
   "metadata": {},
   "outputs": [],
   "source": []
  },
  {
   "cell_type": "code",
   "execution_count": null,
   "metadata": {},
   "outputs": [],
   "source": []
  },
  {
   "cell_type": "code",
   "execution_count": 65,
   "metadata": {},
   "outputs": [],
   "source": [
    "# 11. Container With Most Water\n",
    "\n",
    "\n",
    "# You are given an integer array height of length n. There are n vertical lines drawn such that the two endpoints of the ith line are (i, 0) and (i, height[i]).\n",
    "\n",
    "# Find two lines that together with the x-axis form a container, such that the container contains the most water.\n",
    "\n",
    "# Return the maximum amount of water a container can store.\n",
    "\n",
    "# Notice that you may not slant the container.\n",
    "\n"
   ]
  },
  {
   "cell_type": "code",
   "execution_count": 66,
   "metadata": {},
   "outputs": [],
   "source": [
    "# brute force. find the height and index to calculate the total area. Time complex O(n^2)\n",
    "def maxArea(height):\n",
    "    maxarea = 0\n",
    "    for i in range(len(height)):\n",
    "        for j in range(i+1, len(height)):\n",
    "            width = j - i\n",
    "            maxarea = max(maxarea, min(height[i], height[j]) * width)\n",
    "    return maxarea"
   ]
  },
  {
   "cell_type": "code",
   "execution_count": 67,
   "metadata": {},
   "outputs": [
    {
     "name": "stdout",
     "output_type": "stream",
     "text": [
      "49\n"
     ]
    }
   ],
   "source": [
    "height = [1,8,6,2,5,4,8,3,7]\n",
    "resu = maxArea(height)\n",
    "print(resu)"
   ]
  },
  {
   "cell_type": "code",
   "execution_count": 77,
   "metadata": {},
   "outputs": [],
   "source": [
    "# two pointer\n",
    "\n",
    "\n",
    "def maxArea(height):\n",
    "    \n",
    "    first, last = 0, len(height)-1\n",
    "    width = len(height) - 1\n",
    "    maxarea = min(height[first], height[last]) * width\n",
    "    while first < last:\n",
    "        if height[first] < height[last]:\n",
    "            first += 1\n",
    "        else:\n",
    "            last -= 1\n",
    "        width -= 1\n",
    "        print(maxarea)\n",
    "        print(first, last, height[first], height[last])\n",
    "        maxarea = max(maxarea, min(height[first], height[last]) * width)\n",
    "    return maxarea"
   ]
  },
  {
   "cell_type": "code",
   "execution_count": 78,
   "metadata": {},
   "outputs": [
    {
     "name": "stdout",
     "output_type": "stream",
     "text": [
      "3\n",
      "1 3 2 3\n",
      "4\n",
      "2 3 4 3\n",
      "4\n",
      "2 2 4 4\n",
      "4\n"
     ]
    }
   ],
   "source": [
    "height = [1,2,4,3]\n",
    "resu = maxArea(height)\n",
    "print(resu)"
   ]
  },
  {
   "cell_type": "code",
   "execution_count": 76,
   "metadata": {},
   "outputs": [
    {
     "name": "stdout",
     "output_type": "stream",
     "text": [
      "first: 1, last: 3, area: 4, maxarea: 4\n",
      "first: 2, last: 3, area: 3, maxarea: 4\n",
      "first: 2, last: 2, area: 0, maxarea: 4\n",
      "4\n"
     ]
    }
   ],
   "source": [
    "def maxArea(height):\n",
    "    first, last = 0, len(height) - 1\n",
    "    maxarea = min(height[first], height[last]) * (last - first)\n",
    "\n",
    "    while first < last:\n",
    "        if height[first] < height[last]:\n",
    "            first += 1\n",
    "        else:\n",
    "            last -= 1\n",
    "\n",
    "        current_area = min(height[first], height[last]) * (last - first)\n",
    "        maxarea = max(maxarea, current_area)\n",
    "        print(f\"first: {first}, last: {last}, area: {current_area}, maxarea: {maxarea}\")\n",
    "\n",
    "    return maxarea\n",
    "\n",
    "# Example test\n",
    "print(maxArea([1,2,4,3]))  # Expected output: 49"
   ]
  },
  {
   "cell_type": "code",
   "execution_count": null,
   "metadata": {},
   "outputs": [],
   "source": []
  },
  {
   "cell_type": "code",
   "execution_count": null,
   "metadata": {},
   "outputs": [],
   "source": []
  },
  {
   "cell_type": "code",
   "execution_count": null,
   "metadata": {},
   "outputs": [],
   "source": []
  },
  {
   "cell_type": "code",
   "execution_count": 79,
   "metadata": {},
   "outputs": [],
   "source": [
    "# 1679. Max Number of K-Sum Pairs\n",
    "\n",
    "# You are given an integer array nums and an integer k.\n",
    "\n",
    "# In one operation, you can pick two numbers from the array whose sum equals k and remove them from the array.\n",
    "\n",
    "# Return the maximum number of operations you can perform on the array.\n",
    "\n",
    " \n",
    "\n",
    "# Example 1:\n",
    "\n",
    "# Input: nums = [1,2,3,4], k = 5\n",
    "# Output: 2\n",
    "# Explanation: Starting with nums = [1,2,3,4]:\n",
    "# - Remove numbers 1 and 4, then nums = [2,3]\n",
    "# - Remove numbers 2 and 3, then nums = []\n",
    "# There are no more pairs that sum up to 5, hence a total of 2 operations.\n",
    "# Example 2:\n",
    "\n",
    "# Input: nums = [3,1,3,4,3], k = 6\n",
    "# Output: 1\n",
    "# Explanation: Starting with nums = [3,1,3,4,3]:\n",
    "# - Remove the first two 3's, then nums = [1,4,3]\n",
    "# There are no more pairs that sum up to 6, hence a total of 1 operation."
   ]
  },
  {
   "cell_type": "code",
   "execution_count": 90,
   "metadata": {},
   "outputs": [],
   "source": [
    "# build hash table to store num in nums\n",
    "\n",
    "def maxOperations(nums, k):\n",
    "    hashmap = {}\n",
    "    for i in range(len(nums)):\n",
    "        if nums[i] not in hashmap.keys():\n",
    "            hashmap[nums[i]] = 1\n",
    "        else:\n",
    "            hashmap[nums[i]] += 1\n",
    "    count = 0\n",
    "    for i in range(len(nums)):\n",
    "        current = nums[i]\n",
    "        complement = k - current\n",
    "        if complement in hashmap.keys() and complement == current and hashmap[current] < 2:\n",
    "            continue\n",
    "        if complement in hashmap.keys() and hashmap[current] > 0 and hashmap[complement] > 0:\n",
    "            hashmap[current] -= 1\n",
    "            hashmap[complement] -= 1\n",
    "            count += 1\n",
    "            print(hashmap)\n",
    "    return count"
   ]
  },
  {
   "cell_type": "code",
   "execution_count": 95,
   "metadata": {},
   "outputs": [
    {
     "name": "stdout",
     "output_type": "stream",
     "text": [
      "0\n"
     ]
    }
   ],
   "source": [
    "nums = [1,2,3]\n",
    "k = 6\n",
    "print(maxOperations(nums, k))"
   ]
  },
  {
   "cell_type": "code",
   "execution_count": null,
   "metadata": {},
   "outputs": [],
   "source": []
  },
  {
   "cell_type": "code",
   "execution_count": null,
   "metadata": {},
   "outputs": [],
   "source": [
    "643. Maximum Average Subarray I\n",
    "Easy\n",
    "Topics\n",
    "Companies\n",
    "You are given an integer array nums consisting of n elements, and an integer k.\n",
    "\n",
    "Find a contiguous subarray whose length is equal to k that has the maximum average value and return this value. Any answer with a calculation error less than 10-5 will be accepted.\n",
    "\n",
    " \n",
    "\n",
    "Example 1:\n",
    "\n",
    "Input: nums = [1,12,-5,-6,50,3], k = 4\n",
    "Output: 12.75000\n",
    "Explanation: Maximum average is (12 - 5 - 6 + 50) / 4 = 51 / 4 = 12.75\n",
    "Example 2:\n",
    "\n",
    "Input: nums = [5], k = 1\n",
    "Output: 5.00000"
   ]
  },
  {
   "cell_type": "code",
   "execution_count": null,
   "metadata": {},
   "outputs": [],
   "source": []
  },
  {
   "cell_type": "code",
   "execution_count": null,
   "metadata": {},
   "outputs": [],
   "source": [
    "1456. Maximum Number of Vowels in a Substring of Given Length\n",
    "Medium\n",
    "Topics\n",
    "Companies\n",
    "Hint\n",
    "Given a string s and an integer k, return the maximum number of vowel letters in any substring of s with length k.\n",
    "\n",
    "Vowel letters in English are 'a', 'e', 'i', 'o', and 'u'.\n",
    "\n",
    " \n",
    "\n",
    "Example 1:\n",
    "\n",
    "Input: s = \"abciiidef\", k = 3\n",
    "Output: 3\n",
    "Explanation: The substring \"iii\" contains 3 vowel letters.\n",
    "Example 2:\n",
    "\n",
    "Input: s = \"aeiou\", k = 2\n",
    "Output: 2\n",
    "Explanation: Any substring of length 2 contains 2 vowels.\n",
    "Example 3:\n",
    "\n",
    "Input: s = \"leetcode\", k = 3\n",
    "Output: 2\n",
    "Explanation: \"lee\", \"eet\" and \"ode\" contain 2 vowels"
   ]
  },
  {
   "cell_type": "code",
   "execution_count": null,
   "metadata": {},
   "outputs": [],
   "source": []
  },
  {
   "cell_type": "code",
   "execution_count": null,
   "metadata": {},
   "outputs": [],
   "source": [
    "1004. Max Consecutive Ones III\n",
    "Medium\n",
    "Topics\n",
    "Companies\n",
    "Hint\n",
    "Given a binary array nums and an integer k, return the maximum number of consecutive 1's in the array if you can flip at most k 0's.\n",
    "\n",
    " \n",
    "\n",
    "Example 1:\n",
    "\n",
    "Input: nums = [1,1,1,0,0,0,1,1,1,1,0], k = 2\n",
    "Output: 6\n",
    "Explanation: [1,1,1,0,0,1,1,1,1,1,1]\n",
    "Bolded numbers were flipped from 0 to 1. The longest subarray is underlined.\n",
    "Example 2:\n",
    "\n",
    "Input: nums = [0,0,1,1,0,0,1,1,1,0,1,1,0,0,0,1,1,1,1], k = 3\n",
    "Output: 10\n",
    "Explanation: [0,0,1,1,1,1,1,1,1,1,1,1,0,0,0,1,1,1,1]\n",
    "Bolded numbers were flipped from 0 to 1. The longest subarray is underlined"
   ]
  },
  {
   "cell_type": "code",
   "execution_count": null,
   "metadata": {},
   "outputs": [],
   "source": []
  },
  {
   "cell_type": "code",
   "execution_count": null,
   "metadata": {},
   "outputs": [],
   "source": [
    "1493. Longest Subarray of 1's After Deleting One Element\n",
    "Medium\n",
    "Topics\n",
    "Companies\n",
    "Hint\n",
    "Given a binary array nums, you should delete one element from it.\n",
    "\n",
    "Return the size of the longest non-empty subarray containing only 1's in the resulting array. Return 0 if there is no such subarray.\n",
    "\n",
    " \n",
    "\n",
    "Example 1:\n",
    "\n",
    "Input: nums = [1,1,0,1]\n",
    "Output: 3\n",
    "Explanation: After deleting the number in position 2, [1,1,1] contains 3 numbers with value of 1's.\n",
    "Example 2:\n",
    "\n",
    "Input: nums = [0,1,1,1,0,1,1,0,1]\n",
    "Output: 5\n",
    "Explanation: After deleting the number in position 4, [0,1,1,1,1,1,0,1] longest subarray with value of 1's is [1,1,1,1,1].\n",
    "Example 3:\n",
    "\n",
    "Input: nums = [1,1,1]\n",
    "Output: 2\n",
    "Explanation: You must delete one element"
   ]
  },
  {
   "cell_type": "code",
   "execution_count": null,
   "metadata": {},
   "outputs": [],
   "source": []
  },
  {
   "cell_type": "code",
   "execution_count": null,
   "metadata": {},
   "outputs": [],
   "source": [
    "1732. Find the Highest Altitude\n",
    "Easy\n",
    "Topics\n",
    "Companies\n",
    "Hint\n",
    "There is a biker going on a road trip. The road trip consists of n + 1 points at different altitudes. The biker starts his trip on point 0 with altitude equal 0.\n",
    "\n",
    "You are given an integer array gain of length n where gain[i] is the net gain in altitude between points i​​​​​​ and i + 1 for all (0 <= i < n). Return the highest altitude of a point.\n",
    "\n",
    " \n",
    "\n",
    "Example 1:\n",
    "\n",
    "Input: gain = [-5,1,5,0,-7]\n",
    "Output: 1\n",
    "Explanation: The altitudes are [0,-5,-4,1,1,-6]. The highest is 1.\n",
    "Example 2:\n",
    "\n",
    "Input: gain = [-4,-3,-2,-1,4,3,2]\n",
    "Output: 0\n",
    "Explanation: The altitudes are [0,-4,-7,-9,-10,-6,-3,-1]. The highest is 0."
   ]
  },
  {
   "cell_type": "code",
   "execution_count": null,
   "metadata": {},
   "outputs": [],
   "source": []
  },
  {
   "cell_type": "code",
   "execution_count": null,
   "metadata": {},
   "outputs": [],
   "source": [
    "724. Find Pivot Index\n",
    "Easy\n",
    "Topics\n",
    "Companies\n",
    "Hint\n",
    "Given an array of integers nums, calculate the pivot index of this array.\n",
    "\n",
    "The pivot index is the index where the sum of all the numbers strictly to the left of the index is equal to the sum of all the numbers strictly to the index's right.\n",
    "\n",
    "If the index is on the left edge of the array, then the left sum is 0 because there are no elements to the left. This also applies to the right edge of the array.\n",
    "\n",
    "Return the leftmost pivot index. If no such index exists, return -1.\n",
    "\n",
    " \n",
    "\n",
    "Example 1:\n",
    "\n",
    "Input: nums = [1,7,3,6,5,6]\n",
    "Output: 3\n",
    "Explanation:\n",
    "The pivot index is 3.\n",
    "Left sum = nums[0] + nums[1] + nums[2] = 1 + 7 + 3 = 11\n",
    "Right sum = nums[4] + nums[5] = 5 + 6 = 11\n",
    "Example 2:\n",
    "\n",
    "Input: nums = [1,2,3]\n",
    "Output: -1\n",
    "Explanation:\n",
    "There is no index that satisfies the conditions in the problem statement.\n",
    "Example 3:\n",
    "\n",
    "Input: nums = [2,1,-1]\n",
    "Output: 0\n",
    "Explanation:\n",
    "The pivot index is 0.\n",
    "Left sum = 0 (no elements to the left of index 0)\n",
    "Right sum = nums[1] + nums[2] = 1 + -1 = 0"
   ]
  },
  {
   "cell_type": "code",
   "execution_count": null,
   "metadata": {},
   "outputs": [],
   "source": []
  },
  {
   "cell_type": "code",
   "execution_count": null,
   "metadata": {},
   "outputs": [],
   "source": [
    "2215. Find the Difference of Two Arrays\n",
    "Easy\n",
    "Topics\n",
    "Companies\n",
    "Hint\n",
    "Given two 0-indexed integer arrays nums1 and nums2, return a list answer of size 2 where:\n",
    "\n",
    "answer[0] is a list of all distinct integers in nums1 which are not present in nums2.\n",
    "answer[1] is a list of all distinct integers in nums2 which are not present in nums1.\n",
    "Note that the integers in the lists may be returned in any order.\n",
    "\n",
    " \n",
    "\n",
    "Example 1:\n",
    "\n",
    "Input: nums1 = [1,2,3], nums2 = [2,4,6]\n",
    "Output: [[1,3],[4,6]]\n",
    "Explanation:\n",
    "For nums1, nums1[1] = 2 is present at index 0 of nums2, whereas nums1[0] = 1 and nums1[2] = 3 are not present in nums2. Therefore, answer[0] = [1,3].\n",
    "For nums2, nums2[0] = 2 is present at index 1 of nums1, whereas nums2[1] = 4 and nums2[2] = 6 are not present in nums2. Therefore, answer[1] = [4,6].\n",
    "Example 2:\n",
    "\n",
    "Input: nums1 = [1,2,3,3], nums2 = [1,1,2,2]\n",
    "Output: [[3],[]]\n",
    "Explanation:\n",
    "For nums1, nums1[2] and nums1[3] are not present in nums2. Since nums1[2] == nums1[3], their value is only included once and answer[0] = [3].\n",
    "Every integer in nums2 is present in nums1. Therefore, answer[1] = []."
   ]
  },
  {
   "cell_type": "code",
   "execution_count": null,
   "metadata": {},
   "outputs": [],
   "source": []
  },
  {
   "cell_type": "code",
   "execution_count": null,
   "metadata": {},
   "outputs": [],
   "source": [
    "1207. Unique Number of Occurrences\n",
    "Easy\n",
    "Topics\n",
    "Companies\n",
    "Hint\n",
    "Given an array of integers arr, return true if the number of occurrences of each value in the array is unique or false otherwise.\n",
    "\n",
    " \n",
    "\n",
    "Example 1:\n",
    "\n",
    "Input: arr = [1,2,2,1,1,3]\n",
    "Output: true\n",
    "Explanation: The value 1 has 3 occurrences, 2 has 2 and 3 has 1. No two values have the same number of occurrences.\n",
    "Example 2:\n",
    "\n",
    "Input: arr = [1,2]\n",
    "Output: false\n",
    "Example 3:\n",
    "\n",
    "Input: arr = [-3,0,1,-3,1,1,1,-3,10,0]\n",
    "Output: true\n"
   ]
  },
  {
   "cell_type": "code",
   "execution_count": null,
   "metadata": {},
   "outputs": [],
   "source": []
  },
  {
   "cell_type": "code",
   "execution_count": null,
   "metadata": {},
   "outputs": [],
   "source": [
    "1657. Determine if Two Strings Are Close\n",
    "Medium\n",
    "Topics\n",
    "Companies\n",
    "Hint\n",
    "Two strings are considered close if you can attain one from the other using the following operations:\n",
    "\n",
    "Operation 1: Swap any two existing characters.\n",
    "For example, abcde -> aecdb\n",
    "Operation 2: Transform every occurrence of one existing character into another existing character, and do the same with the other character.\n",
    "For example, aacabb -> bbcbaa (all a's turn into b's, and all b's turn into a's)\n",
    "You can use the operations on either string as many times as necessary.\n",
    "\n",
    "Given two strings, word1 and word2, return true if word1 and word2 are close, and false otherwise.\n",
    "\n",
    " \n",
    "\n",
    "Example 1:\n",
    "\n",
    "Input: word1 = \"abc\", word2 = \"bca\"\n",
    "Output: true\n",
    "Explanation: You can attain word2 from word1 in 2 operations.\n",
    "Apply Operation 1: \"abc\" -> \"acb\"\n",
    "Apply Operation 1: \"acb\" -> \"bca\"\n",
    "Example 2:\n",
    "\n",
    "Input: word1 = \"a\", word2 = \"aa\"\n",
    "Output: false\n",
    "Explanation: It is impossible to attain word2 from word1, or vice versa, in any number of operations.\n",
    "Example 3:\n",
    "\n",
    "Input: word1 = \"cabbba\", word2 = \"abbccc\"\n",
    "Output: true\n",
    "Explanation: You can attain word2 from word1 in 3 operations.\n",
    "Apply Operation 1: \"cabbba\" -> \"caabbb\"\n",
    "Apply Operation 2: \"caabbb\" -> \"baaccc\"\n",
    "Apply Operation 2: \"baaccc\" -> \"abbccc\""
   ]
  },
  {
   "cell_type": "code",
   "execution_count": null,
   "metadata": {},
   "outputs": [],
   "source": []
  },
  {
   "cell_type": "code",
   "execution_count": null,
   "metadata": {},
   "outputs": [],
   "source": [
    "2352. Equal Row and Column Pairs\n",
    "Medium\n",
    "Topics\n",
    "Companies\n",
    "Hint\n",
    "Given a 0-indexed n x n integer matrix grid, return the number of pairs (ri, cj) such that row ri and column cj are equal.\n",
    "\n",
    "A row and column pair is considered equal if they contain the same elements in the same order (i.e., an equal array).\n",
    "\n",
    " \n",
    "\n",
    "Example 1:\n",
    "\n",
    "\n",
    "Input: grid = [[3,2,1],[1,7,6],[2,7,7]]\n",
    "Output: 1\n",
    "Explanation: There is 1 equal row and column pair:\n",
    "- (Row 2, Column 1): [2,7,7]\n",
    "Example 2:\n",
    "\n",
    "\n",
    "Input: grid = [[3,1,2,2],[1,4,4,5],[2,4,2,2],[2,4,2,2]]\n",
    "Output: 3\n",
    "Explanation: There are 3 equal row and column pairs:\n",
    "- (Row 0, Column 0): [3,1,2,2]\n",
    "- (Row 2, Column 2): [2,4,2,2]\n",
    "- (Row 3, Column 2): [2,4,2,2]\n"
   ]
  },
  {
   "cell_type": "code",
   "execution_count": null,
   "metadata": {},
   "outputs": [],
   "source": []
  },
  {
   "cell_type": "code",
   "execution_count": null,
   "metadata": {},
   "outputs": [],
   "source": [
    "2390. Removing Stars From a String\n",
    "Medium\n",
    "Topics\n",
    "Companies\n",
    "Hint\n",
    "You are given a string s, which contains stars *.\n",
    "\n",
    "In one operation, you can:\n",
    "\n",
    "Choose a star in s.\n",
    "Remove the closest non-star character to its left, as well as remove the star itself.\n",
    "Return the string after all stars have been removed.\n",
    "\n",
    "Note:\n",
    "\n",
    "The input will be generated such that the operation is always possible.\n",
    "It can be shown that the resulting string will always be unique.\n",
    " \n",
    "\n",
    "Example 1:\n",
    "\n",
    "Input: s = \"leet**cod*e\"\n",
    "Output: \"lecoe\"\n",
    "Explanation: Performing the removals from left to right:\n",
    "- The closest character to the 1st star is 't' in \"leet**cod*e\". s becomes \"lee*cod*e\".\n",
    "- The closest character to the 2nd star is 'e' in \"lee*cod*e\". s becomes \"lecod*e\".\n",
    "- The closest character to the 3rd star is 'd' in \"lecod*e\". s becomes \"lecoe\".\n",
    "There are no more stars, so we return \"lecoe\".\n",
    "Example 2:\n",
    "\n",
    "Input: s = \"erase*****\"\n",
    "Output: \"\"\n",
    "Explanation: The entire string is removed, so we return an empty string.\n"
   ]
  },
  {
   "cell_type": "code",
   "execution_count": null,
   "metadata": {},
   "outputs": [],
   "source": []
  },
  {
   "cell_type": "code",
   "execution_count": null,
   "metadata": {},
   "outputs": [],
   "source": [
    "735. Asteroid Collision\n",
    "Medium\n",
    "Topics\n",
    "Companies\n",
    "Hint\n",
    "We are given an array asteroids of integers representing asteroids in a row.\n",
    "\n",
    "For each asteroid, the absolute value represents its size, and the sign represents its direction (positive meaning right, negative meaning left). Each asteroid moves at the same speed.\n",
    "\n",
    "Find out the state of the asteroids after all collisions. If two asteroids meet, the smaller one will explode. If both are the same size, both will explode. Two asteroids moving in the same direction will never meet.\n",
    "\n",
    " \n",
    "\n",
    "Example 1:\n",
    "\n",
    "Input: asteroids = [5,10,-5]\n",
    "Output: [5,10]\n",
    "Explanation: The 10 and -5 collide resulting in 10. The 5 and 10 never collide.\n",
    "Example 2:\n",
    "\n",
    "Input: asteroids = [8,-8]\n",
    "Output: []\n",
    "Explanation: The 8 and -8 collide exploding each other.\n",
    "Example 3:\n",
    "\n",
    "Input: asteroids = [10,2,-5]\n",
    "Output: [10]\n",
    "Explanation: The 2 and -5 collide resulting in -5. The 10 and -5 collide resulting in 10."
   ]
  },
  {
   "cell_type": "code",
   "execution_count": null,
   "metadata": {},
   "outputs": [],
   "source": []
  },
  {
   "cell_type": "code",
   "execution_count": null,
   "metadata": {},
   "outputs": [],
   "source": [
    "394. Decode String\n",
    "Medium\n",
    "Topics\n",
    "Companies\n",
    "Given an encoded string, return its decoded string.\n",
    "\n",
    "The encoding rule is: k[encoded_string], where the encoded_string inside the square brackets is being repeated exactly k times. Note that k is guaranteed to be a positive integer.\n",
    "\n",
    "You may assume that the input string is always valid; there are no extra white spaces, square brackets are well-formed, etc. Furthermore, you may assume that the original data does not contain any digits and that digits are only for those repeat numbers, k. For example, there will not be input like 3a or 2[4].\n",
    "\n",
    "The test cases are generated so that the length of the output will never exceed 105.\n",
    "\n",
    " \n",
    "\n",
    "Example 1:\n",
    "\n",
    "Input: s = \"3[a]2[bc]\"\n",
    "Output: \"aaabcbc\"\n",
    "Example 2:\n",
    "\n",
    "Input: s = \"3[a2[c]]\"\n",
    "Output: \"accaccacc\"\n",
    "Example 3:\n",
    "\n",
    "Input: s = \"2[abc]3[cd]ef\"\n",
    "Output: \"abcabccdcdcdef\""
   ]
  },
  {
   "cell_type": "code",
   "execution_count": null,
   "metadata": {},
   "outputs": [],
   "source": []
  },
  {
   "cell_type": "code",
   "execution_count": null,
   "metadata": {},
   "outputs": [],
   "source": [
    "933. Number of Recent Calls\n",
    "Easy\n",
    "Topics\n",
    "Companies\n",
    "You have a RecentCounter class which counts the number of recent requests within a certain time frame.\n",
    "\n",
    "Implement the RecentCounter class:\n",
    "\n",
    "RecentCounter() Initializes the counter with zero recent requests.\n",
    "int ping(int t) Adds a new request at time t, where t represents some time in milliseconds, and returns the number of requests that has happened in the past 3000 milliseconds (including the new request). Specifically, return the number of requests that have happened in the inclusive range [t - 3000, t].\n",
    "It is guaranteed that every call to ping uses a strictly larger value of t than the previous call.\n",
    "\n",
    " \n",
    "\n",
    "Example 1:\n",
    "\n",
    "Input\n",
    "[\"RecentCounter\", \"ping\", \"ping\", \"ping\", \"ping\"]\n",
    "[[], [1], [100], [3001], [3002]]\n",
    "Output\n",
    "[null, 1, 2, 3, 3]\n",
    "\n",
    "Explanation\n",
    "RecentCounter recentCounter = new RecentCounter();\n",
    "recentCounter.ping(1);     // requests = [1], range is [-2999,1], return 1\n",
    "recentCounter.ping(100);   // requests = [1, 100], range is [-2900,100], return 2\n",
    "recentCounter.ping(3001);  // requests = [1, 100, 3001], range is [1,3001], return 3\n",
    "recentCounter.ping(3002);  // requests = [1, 100, 3001, 3002], range is [2,3002], return 3"
   ]
  },
  {
   "cell_type": "code",
   "execution_count": null,
   "metadata": {},
   "outputs": [],
   "source": []
  },
  {
   "cell_type": "code",
   "execution_count": null,
   "metadata": {},
   "outputs": [],
   "source": [
    "649. Dota2 Senate\n",
    "Medium\n",
    "Topics\n",
    "Companies\n",
    "In the world of Dota2, there are two parties: the Radiant and the Dire.\n",
    "\n",
    "The Dota2 senate consists of senators coming from two parties. Now the Senate wants to decide on a change in the Dota2 game. The voting for this change is a round-based procedure. In each round, each senator can exercise one of the two rights:\n",
    "\n",
    "Ban one senator's right: A senator can make another senator lose all his rights in this and all the following rounds.\n",
    "Announce the victory: If this senator found the senators who still have rights to vote are all from the same party, he can announce the victory and decide on the change in the game.\n",
    "Given a string senate representing each senator's party belonging. The character 'R' and 'D' represent the Radiant party and the Dire party. Then if there are n senators, the size of the given string will be n.\n",
    "\n",
    "The round-based procedure starts from the first senator to the last senator in the given order. This procedure will last until the end of voting. All the senators who have lost their rights will be skipped during the procedure.\n",
    "\n",
    "Suppose every senator is smart enough and will play the best strategy for his own party. Predict which party will finally announce the victory and change the Dota2 game. The output should be \"Radiant\" or \"Dire\".\n",
    "\n",
    " \n",
    "\n",
    "Example 1:\n",
    "\n",
    "Input: senate = \"RD\"\n",
    "Output: \"Radiant\"\n",
    "Explanation: \n",
    "The first senator comes from Radiant and he can just ban the next senator's right in round 1. \n",
    "And the second senator can't exercise any rights anymore since his right has been banned. \n",
    "And in round 2, the first senator can just announce the victory since he is the only guy in the senate who can vote.\n",
    "Example 2:\n",
    "\n",
    "Input: senate = \"RDD\"\n",
    "Output: \"Dire\"\n",
    "Explanation: \n",
    "The first senator comes from Radiant and he can just ban the next senator's right in round 1. \n",
    "And the second senator can't exercise any rights anymore since his right has been banned. \n",
    "And the third senator comes from Dire and he can ban the first senator's right in round 1. \n",
    "And in round 2, the third senator can just announce the victory since he is the only guy in the senate who can vote."
   ]
  },
  {
   "cell_type": "code",
   "execution_count": null,
   "metadata": {},
   "outputs": [],
   "source": []
  },
  {
   "cell_type": "code",
   "execution_count": null,
   "metadata": {},
   "outputs": [],
   "source": [
    "2095. Delete the Middle Node of a Linked List\n",
    "Medium\n",
    "Topics\n",
    "Companies\n",
    "Hint\n",
    "You are given the head of a linked list. Delete the middle node, and return the head of the modified linked list.\n",
    "\n",
    "The middle node of a linked list of size n is the ⌊n / 2⌋th node from the start using 0-based indexing, where ⌊x⌋ denotes the largest integer less than or equal to x.\n",
    "\n",
    "For n = 1, 2, 3, 4, and 5, the middle nodes are 0, 1, 1, 2, and 2, respectively.\n",
    " \n",
    "\n",
    "Example 1:\n",
    "\n",
    "\n",
    "Input: head = [1,3,4,7,1,2,6]\n",
    "Output: [1,3,4,1,2,6]\n",
    "Explanation:\n",
    "The above figure represents the given linked list. The indices of the nodes are written below.\n",
    "Since n = 7, node 3 with value 7 is the middle node, which is marked in red.\n",
    "We return the new list after removing this node. \n",
    "Example 2:\n",
    "\n",
    "\n",
    "Input: head = [1,2,3,4]\n",
    "Output: [1,2,4]\n",
    "Explanation:\n",
    "The above figure represents the given linked list.\n",
    "For n = 4, node 2 with value 3 is the middle node, which is marked in red.\n",
    "Example 3:\n",
    "\n",
    "\n",
    "Input: head = [2,1]\n",
    "Output: [2]\n",
    "Explanation:\n",
    "The above figure represents the given linked list.\n",
    "For n = 2, node 1 with value 1 is the middle node, which is marked in red.\n",
    "Node 0 with value 2 is the only node remaining after removing node 1."
   ]
  },
  {
   "cell_type": "code",
   "execution_count": null,
   "metadata": {},
   "outputs": [],
   "source": []
  },
  {
   "cell_type": "code",
   "execution_count": null,
   "metadata": {},
   "outputs": [],
   "source": [
    "328. Odd Even Linked List\n",
    "Medium\n",
    "Topics\n",
    "Companies\n",
    "Given the head of a singly linked list, group all the nodes with odd indices together followed by the nodes with even indices, and return the reordered list.\n",
    "\n",
    "The first node is considered odd, and the second node is even, and so on.\n",
    "\n",
    "Note that the relative order inside both the even and odd groups should remain as it was in the input.\n",
    "\n",
    "You must solve the problem in O(1) extra space complexity and O(n) time complexity.\n",
    "\n",
    " \n",
    "\n",
    "Example 1:\n",
    "\n",
    "\n",
    "Input: head = [1,2,3,4,5]\n",
    "Output: [1,3,5,2,4]\n",
    "Example 2:\n",
    "\n",
    "\n",
    "Input: head = [2,1,3,5,6,4,7]\n",
    "Output: [2,3,6,7,1,5,4]"
   ]
  },
  {
   "cell_type": "code",
   "execution_count": null,
   "metadata": {},
   "outputs": [],
   "source": []
  },
  {
   "cell_type": "code",
   "execution_count": null,
   "metadata": {},
   "outputs": [],
   "source": [
    "206. Reverse Linked List\n",
    "Easy\n",
    "Topics\n",
    "Companies\n",
    "Given the head of a singly linked list, reverse the list, and return the reversed list.\n",
    "\n",
    " \n",
    "\n",
    "Example 1:\n",
    "\n",
    "\n",
    "Input: head = [1,2,3,4,5]\n",
    "Output: [5,4,3,2,1]\n",
    "Example 2:\n",
    "\n",
    "\n",
    "Input: head = [1,2]\n",
    "Output: [2,1]\n",
    "Example 3:\n",
    "\n",
    "Input: head = []\n",
    "Output: []\n"
   ]
  },
  {
   "cell_type": "code",
   "execution_count": null,
   "metadata": {},
   "outputs": [],
   "source": []
  },
  {
   "cell_type": "code",
   "execution_count": null,
   "metadata": {},
   "outputs": [],
   "source": [
    "2130. Maximum Twin Sum of a Linked List\n",
    "Medium\n",
    "Topics\n",
    "Companies\n",
    "Hint\n",
    "In a linked list of size n, where n is even, the ith node (0-indexed) of the linked list is known as the twin of the (n-1-i)th node, if 0 <= i <= (n / 2) - 1.\n",
    "\n",
    "For example, if n = 4, then node 0 is the twin of node 3, and node 1 is the twin of node 2. These are the only nodes with twins for n = 4.\n",
    "The twin sum is defined as the sum of a node and its twin.\n",
    "\n",
    "Given the head of a linked list with even length, return the maximum twin sum of the linked list.\n",
    "\n",
    " \n",
    "\n",
    "Example 1:\n",
    "\n",
    "\n",
    "Input: head = [5,4,2,1]\n",
    "Output: 6\n",
    "Explanation:\n",
    "Nodes 0 and 1 are the twins of nodes 3 and 2, respectively. All have twin sum = 6.\n",
    "There are no other nodes with twins in the linked list.\n",
    "Thus, the maximum twin sum of the linked list is 6. \n",
    "Example 2:\n",
    "\n",
    "\n",
    "Input: head = [4,2,2,3]\n",
    "Output: 7\n",
    "Explanation:\n",
    "The nodes with twins present in this linked list are:\n",
    "- Node 0 is the twin of node 3 having a twin sum of 4 + 3 = 7.\n",
    "- Node 1 is the twin of node 2 having a twin sum of 2 + 2 = 4.\n",
    "Thus, the maximum twin sum of the linked list is max(7, 4) = 7. \n",
    "Example 3:\n",
    "\n",
    "\n",
    "Input: head = [1,100000]\n",
    "Output: 100001\n",
    "Explanation:\n",
    "There is only one node with a twin in the linked list having twin sum of 1 + 100000 = 100001.\n"
   ]
  },
  {
   "cell_type": "code",
   "execution_count": null,
   "metadata": {},
   "outputs": [],
   "source": []
  },
  {
   "cell_type": "code",
   "execution_count": null,
   "metadata": {},
   "outputs": [],
   "source": [
    "104. Maximum Depth of Binary Tree\n",
    "Easy\n",
    "Topics\n",
    "Companies\n",
    "Given the root of a binary tree, return its maximum depth.\n",
    "\n",
    "A binary tree's maximum depth is the number of nodes along the longest path from the root node down to the farthest leaf node.\n",
    "\n",
    " \n",
    "\n",
    "Example 1:\n",
    "\n",
    "\n",
    "Input: root = [3,9,20,null,null,15,7]\n",
    "Output: 3\n",
    "Example 2:\n",
    "\n",
    "Input: root = [1,null,2]\n",
    "Output: 2\n"
   ]
  },
  {
   "cell_type": "code",
   "execution_count": null,
   "metadata": {},
   "outputs": [],
   "source": []
  },
  {
   "cell_type": "code",
   "execution_count": null,
   "metadata": {},
   "outputs": [],
   "source": [
    "1448. Count Good Nodes in Binary Tree\n",
    "Medium\n",
    "Topics\n",
    "Companies\n",
    "Hint\n",
    "Given a binary tree root, a node X in the tree is named good if in the path from root to X there are no nodes with a value greater than X.\n",
    "\n",
    "Return the number of good nodes in the binary tree.\n",
    "\n",
    " \n",
    "\n",
    "Example 1:\n",
    "\n",
    "\n",
    "\n",
    "Input: root = [3,1,4,3,null,1,5]\n",
    "Output: 4\n",
    "Explanation: Nodes in blue are good.\n",
    "Root Node (3) is always a good node.\n",
    "Node 4 -> (3,4) is the maximum value in the path starting from the root.\n",
    "Node 5 -> (3,4,5) is the maximum value in the path\n",
    "Node 3 -> (3,1,3) is the maximum value in the path.\n",
    "Example 2:\n",
    "\n",
    "\n",
    "\n",
    "Input: root = [3,3,null,4,2]\n",
    "Output: 3\n",
    "Explanation: Node 2 -> (3, 3, 2) is not good, because \"3\" is higher than it.\n",
    "Example 3:\n",
    "\n",
    "Input: root = [1]\n",
    "Output: 1\n",
    "Explanation: Root is considered as good."
   ]
  },
  {
   "cell_type": "code",
   "execution_count": null,
   "metadata": {},
   "outputs": [],
   "source": []
  },
  {
   "cell_type": "code",
   "execution_count": null,
   "metadata": {},
   "outputs": [],
   "source": [
    "437. Path Sum III\n",
    "Medium\n",
    "Topics\n",
    "Companies\n",
    "Given the root of a binary tree and an integer targetSum, return the number of paths where the sum of the values along the path equals targetSum.\n",
    "\n",
    "The path does not need to start or end at the root or a leaf, but it must go downwards (i.e., traveling only from parent nodes to child nodes).\n",
    "\n",
    " \n",
    "\n",
    "Example 1:\n",
    "\n",
    "\n",
    "Input: root = [10,5,-3,3,2,null,11,3,-2,null,1], targetSum = 8\n",
    "Output: 3\n",
    "Explanation: The paths that sum to 8 are shown.\n",
    "Example 2:\n",
    "\n",
    "Input: root = [5,4,8,11,null,13,4,7,2,null,null,5,1], targetSum = 22\n",
    "Output: 3\n",
    " "
   ]
  },
  {
   "cell_type": "code",
   "execution_count": null,
   "metadata": {},
   "outputs": [],
   "source": []
  },
  {
   "cell_type": "code",
   "execution_count": null,
   "metadata": {},
   "outputs": [],
   "source": [
    "236. Lowest Common Ancestor of a Binary Tree\n",
    "Medium\n",
    "Topics\n",
    "Companies\n",
    "Given a binary tree, find the lowest common ancestor (LCA) of two given nodes in the tree.\n",
    "\n",
    "According to the definition of LCA on Wikipedia: “The lowest common ancestor is defined between two nodes p and q as the lowest node in T that has both p and q as descendants (where we allow a node to be a descendant of itself).”\n",
    "\n",
    " \n",
    "\n",
    "Example 1:\n",
    "\n",
    "\n",
    "Input: root = [3,5,1,6,2,0,8,null,null,7,4], p = 5, q = 1\n",
    "Output: 3\n",
    "Explanation: The LCA of nodes 5 and 1 is 3.\n",
    "Example 2:\n",
    "\n",
    "\n",
    "Input: root = [3,5,1,6,2,0,8,null,null,7,4], p = 5, q = 4\n",
    "Output: 5\n",
    "Explanation: The LCA of nodes 5 and 4 is 5, since a node can be a descendant of itself according to the LCA definition.\n",
    "Example 3:\n",
    "\n",
    "Input: root = [1,2], p = 1, q = 2\n",
    "Output: 1\n",
    " "
   ]
  },
  {
   "cell_type": "code",
   "execution_count": null,
   "metadata": {},
   "outputs": [],
   "source": []
  },
  {
   "cell_type": "code",
   "execution_count": null,
   "metadata": {},
   "outputs": [],
   "source": [
    "199. Binary Tree Right Side View\n",
    "Medium\n",
    "Topics\n",
    "Companies\n",
    "Given the root of a binary tree, imagine yourself standing on the right side of it, return the values of the nodes you can see ordered from top to bottom.\n",
    "\n",
    " \n",
    "\n",
    "Example 1:\n",
    "\n",
    "\n",
    "Input: root = [1,2,3,null,5,null,4]\n",
    "Output: [1,3,4]\n",
    "Example 2:\n",
    "\n",
    "Input: root = [1,null,3]\n",
    "Output: [1,3]\n",
    "Example 3:\n",
    "\n",
    "Input: root = []\n",
    "Output: []"
   ]
  },
  {
   "cell_type": "code",
   "execution_count": null,
   "metadata": {},
   "outputs": [],
   "source": []
  },
  {
   "cell_type": "code",
   "execution_count": null,
   "metadata": {},
   "outputs": [],
   "source": [
    "1161. Maximum Level Sum of a Binary Tree\n",
    "Medium\n",
    "Topics\n",
    "Companies\n",
    "Hint\n",
    "Given the root of a binary tree, the level of its root is 1, the level of its children is 2, and so on.\n",
    "\n",
    "Return the smallest level x such that the sum of all the values of nodes at level x is maximal.\n",
    "\n",
    " \n",
    "\n",
    "Example 1:\n",
    "\n",
    "\n",
    "Input: root = [1,7,0,7,-8,null,null]\n",
    "Output: 2\n",
    "Explanation: \n",
    "Level 1 sum = 1.\n",
    "Level 2 sum = 7 + 0 = 7.\n",
    "Level 3 sum = 7 + -8 = -1.\n",
    "So we return the level with the maximum sum which is level 2.\n",
    "Example 2:\n",
    "\n",
    "Input: root = [989,null,10250,98693,-89388,null,null,null,-32127]\n",
    "Output: 2"
   ]
  },
  {
   "cell_type": "code",
   "execution_count": null,
   "metadata": {},
   "outputs": [],
   "source": []
  },
  {
   "cell_type": "code",
   "execution_count": null,
   "metadata": {},
   "outputs": [],
   "source": []
  },
  {
   "cell_type": "code",
   "execution_count": null,
   "metadata": {},
   "outputs": [],
   "source": []
  },
  {
   "cell_type": "code",
   "execution_count": null,
   "metadata": {},
   "outputs": [],
   "source": []
  },
  {
   "cell_type": "code",
   "execution_count": null,
   "metadata": {},
   "outputs": [],
   "source": []
  },
  {
   "cell_type": "code",
   "execution_count": null,
   "metadata": {},
   "outputs": [],
   "source": []
  },
  {
   "cell_type": "code",
   "execution_count": null,
   "metadata": {},
   "outputs": [],
   "source": []
  }
 ],
 "metadata": {
  "kernelspec": {
   "display_name": "Python 3",
   "language": "python",
   "name": "python3"
  },
  "language_info": {
   "codemirror_mode": {
    "name": "ipython",
    "version": 3
   },
   "file_extension": ".py",
   "mimetype": "text/x-python",
   "name": "python",
   "nbconvert_exporter": "python",
   "pygments_lexer": "ipython3",
   "version": "3.8.3"
  }
 },
 "nbformat": 4,
 "nbformat_minor": 4
}
