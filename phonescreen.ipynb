{
 "cells": [
  {
   "cell_type": "markdown",
   "metadata": {},
   "source": [
    "# Tree"
   ]
  },
  {
   "cell_type": "markdown",
   "metadata": {},
   "source": [
    "1. find the Lowest Common Ancestor"
   ]
  },
  {
   "cell_type": "code",
   "execution_count": 3,
   "metadata": {},
   "outputs": [],
   "source": [
    "def LowestCommonAncestor(root, p, q):\n",
    "    if root == None or root == p or root == q:\n",
    "        return root\n",
    "    \n",
    "    left = lca(root.left, p, q)\n",
    "    right = lca(root.right, p, q)\n",
    "    \n",
    "    if left != None and right != None:\n",
    "        return root\n",
    "    \n",
    "    if left != None:\n",
    "        return left \n",
    "    \n",
    "    return right\n"
   ]
  },
  {
   "cell_type": "markdown",
   "metadata": {},
   "source": [
    "2. not only find the Lowest Common Ancestor (LCA) but also return the path from node p to node q via the LCA\n",
    "\n",
    "path"
   ]
  },
  {
   "cell_type": "code",
   "execution_count": 5,
   "metadata": {},
   "outputs": [],
   "source": [
    "def dfs_path(root, target, path):\n",
    "    if root is None:\n",
    "        return False \n",
    "    \n",
    "    path.append(root) # Add the current node to the path\n",
    "    \n",
    "    if root == target:\n",
    "        return True \n",
    "    \n",
    "    # Recur for left and right subtree\n",
    "    \n",
    "    if (root.left and dfs_path(root.left, target, path)) or \\\n",
    "        (root.right and dfs_path(root.right, target, path)):\n",
    "            return True \n",
    "    # Remove the current node from the path if not in path from root to target\n",
    "    path.pop()\n",
    "    return False \n",
    "\n",
    "def find_path(root, p, q):\n",
    "    lca_node = lca(root, p, q)\n",
    "    \n",
    "    path_p, path_q = [], [] \n",
    "    dfs_path(root, p, path_p)\n",
    "    dfs_path(root, q, path_q)\n",
    "    \n",
    "    index_lca_p = path_p.index(lca)\n",
    "    index_lca_q = path_q.index(lca) \n",
    "    \n",
    "    path_from_ptoq = path_p[:index_lca_p][::-1] + path_q[index_lca_q:]\n",
    "    \n",
    "    path_values = [node.val for node in path_from_ptoq]\n",
    "    \n",
    "    return lca.val, path_values"
   ]
  },
  {
   "cell_type": "code",
   "execution_count": null,
   "metadata": {},
   "outputs": [],
   "source": []
  },
  {
   "cell_type": "markdown",
   "metadata": {},
   "source": [
    "## maze\n",
    "\n",
    "\n",
    "So most straightforward solution is to use game board to keep track of positions that have been probed already. Also we need to keep track of a list of positions as the actual path taken.\n",
    "Board = [\n",
    "[0, 0, 0, 0, 0, 0, 0], [0, 0, 1, 0, 0, 1, 0], [0, 0, 1, 0, 1, 1, 0], [0, 0, 1, 0, 1, 0, 1], [1, 1, 1, 0, 0, 0, 0]\n",
    "]"
   ]
  },
  {
   "cell_type": "code",
   "execution_count": 6,
   "metadata": {},
   "outputs": [],
   "source": [
    "def dfs(board, x, y ,path):\n",
    "    path.append((x, y))\n",
    "    if x == len(board) - 1 and y == len(board[0]) - 1:\n",
    "        return True\n",
    "    \n",
    "    if x < 0 or x >= len(board) or y < 0 or y>=len(board[0]) or not board[x][y] == 0:\n",
    "        del path[-1]\n",
    "        return False\n",
    "    \n",
    "    board[x][y]=2 \n",
    "    \n",
    "    if dfs(board, x+1, y, path):\n",
    "        return True \n",
    "    if dfs(board, x, y+1, path):\n",
    "        return True \n",
    "    if dfs(board, x-1, y, path):\n",
    "        return True\n",
    "    if dfs(board, x, y-1, path):\n",
    "        return True\n",
    "    \n",
    "    del path[-1]\n",
    "    \n",
    "    return False "
   ]
  },
  {
   "cell_type": "markdown",
   "metadata": {},
   "source": [
    "## Graph Clone\n",
    "\n",
    "Input: adjList = [[2,4],[1,3],[2,4],[1,3]]\n",
    "Output: [[2,4],[1,3],[2,4],[1,3]]\n",
    "Explanation: There are 4 nodes in the graph.\n",
    "1st node (val = 1)'s neighbors are 2nd node (val = 2) and 4th node (val = 4).\n",
    "2nd node (val = 2)'s neighbors are 1st node (val = 1) and 3rd node (val = 3).\n",
    "3rd node (val = 3)'s neighbors are 2nd node (val = 2) and 4th node (val = 4).\n",
    "4th node (val = 4)'s neighbors are 1st node (val = 1) and 3rd node (val = 3)."
   ]
  },
  {
   "cell_type": "code",
   "execution_count": 25,
   "metadata": {},
   "outputs": [],
   "source": [
    "\"\"\"\n",
    "# Definition for a Node.\n",
    "class Node(object):\n",
    "    def __init__(self, val, neighbors):\n",
    "        self.val = val\n",
    "        self.neighbors = neighbors\n",
    "\"\"\"\n",
    "class Solution(object):\n",
    "\n",
    "    def __init__(self):\n",
    "        # Dictionary to save the visited node and it's respective clone\n",
    "        # as key and value respectively. This helps to avoid cycles.\n",
    "        self.visited = {}\n",
    "\n",
    "    def cloneGraph(self, node):\n",
    "        \"\"\"\n",
    "        :type node: Node\n",
    "        :rtype: Node\n",
    "        \"\"\"\n",
    "        if not node:\n",
    "            return node\n",
    "\n",
    "        # If the node was already visited before.\n",
    "        # Return the clone from the visited dictionary.\n",
    "        if node in self.visited:\n",
    "            return self.visited[node]\n",
    "\n",
    "        # Create a clone for the given node.\n",
    "        # Note that we don't have cloned neighbors as of now, hence [].\n",
    "        clone_node = Node(node.val, [])\n",
    "\n",
    "        # The key is original node and value being the clone node.\n",
    "        self.visited[node] = clone_node\n",
    "\n",
    "        # Iterate through the neighbors to generate their clones\n",
    "        # and prepare a list of cloned neighbors to be added to the cloned node.\n",
    "        if node.neighbors:\n",
    "            clone_node.neighbors = [self.cloneGraph(n) for n in node.neighbors]\n",
    "\n",
    "        return clone_node"
   ]
  },
  {
   "cell_type": "markdown",
   "metadata": {},
   "source": [
    "## Add range sum in a binary search tree\n",
    "Input: root = [10,5,15,3,7,null,18], low = 7, high = 15\n",
    "Output: 32\n",
    "Explanation: Nodes 7, 10, and 15 are in the range [7, 15]. 7 + 10 + 15 = 32."
   ]
  },
  {
   "cell_type": "code",
   "execution_count": 35,
   "metadata": {},
   "outputs": [],
   "source": [
    "class Solution:\n",
    "    def rangeSumBST(self, root, low: int, high: int) -> int:\n",
    "        def dfs(node):\n",
    "            nonlocal ans\n",
    "            if node:\n",
    "                if low <= node.val <= high:\n",
    "                    ans += node.val\n",
    "                if low < node.val:\n",
    "                    dfs(node.left)\n",
    "                if node.val < high:\n",
    "                    dfs(node.right)\n",
    "\n",
    "        ans = 0\n",
    "        dfs(root)\n",
    "        return ans"
   ]
  },
  {
   "cell_type": "markdown",
   "metadata": {},
   "source": [
    "## Print Tree by Columns\n",
    "\n",
    "Input: root = [3,9,20,null,null,15,7]\n",
    "Output: [[9],[3,15],[20],[7]]\n",
    "Explanation:\n",
    "Column -1: Only node 9 is in this column.\n",
    "Column 0: Nodes 3 and 15 are in this column in that order from top to bottom.\n",
    "Column 1: Only node 20 is in this column.\n",
    "Column 2: Only node 7 is in this column."
   ]
  },
  {
   "cell_type": "code",
   "execution_count": 38,
   "metadata": {},
   "outputs": [],
   "source": [
    "# Definition for a binary tree node.\n",
    "# class TreeNode:\n",
    "#     def __init__(self, x):\n",
    "#         self.val = x\n",
    "#         self.left = None\n",
    "#         self.right = None\n",
    "\n",
    "class Solution:\n",
    "    def verticalTraversal(self, root):\n",
    "        node_list = []\n",
    "\n",
    "        def BFS(root):\n",
    "            queue = deque([(root, 0, 0)])\n",
    "            while queue:\n",
    "                node, row, column = queue.popleft()\n",
    "                if node is not None:\n",
    "                    node_list.append((column, row, node.val))\n",
    "                    queue.append((node.left, row + 1, column - 1))\n",
    "                    queue.append((node.right, row + 1, column + 1))\n",
    "\n",
    "        # step 1). construct the global node list, with the coordinates\n",
    "        BFS(root)\n",
    "\n",
    "        # step 2). sort the global node list, according to the coordinates\n",
    "        node_list.sort()\n",
    "\n",
    "        # step 3). retrieve the sorted results partitioned by the column index\n",
    "        ret = OrderedDict()\n",
    "        for column, row, value in node_list:\n",
    "            if column in ret:\n",
    "                ret[column].append(value)\n",
    "            else:\n",
    "                ret[column] = [value]\n",
    "\n",
    "        return ret.values()"
   ]
  },
  {
   "cell_type": "code",
   "execution_count": null,
   "metadata": {},
   "outputs": [],
   "source": []
  },
  {
   "cell_type": "markdown",
   "metadata": {},
   "source": [
    "## Max delta in a BST\n",
    "\n",
    "S[] = 1, 2, 3, 9, 10, 11\n",
    "\n",
    "Your goal is to find the maximum difference between two consecutive values of S Example, continued:\n",
    "    \n",
    "Answer: 6 (9 - 3)"
   ]
  },
  {
   "cell_type": "code",
   "execution_count": 80,
   "metadata": {},
   "outputs": [
    {
     "name": "stdout",
     "output_type": "stream",
     "text": [
      "6\n"
     ]
    }
   ],
   "source": [
    "class TreeNode:\n",
    "    def __init__(self, val=0, left=None, right=None):\n",
    "        self.val = val\n",
    "        self.left = left\n",
    "        self.right = right\n",
    "\n",
    "def max_delta_in_bst(root):\n",
    "    # Helper function to perform in-order traversal\n",
    "    def inorder_traversal(node):\n",
    "        if node is None:\n",
    "            return []\n",
    "        # Traverse left subtree, visit node, then right subtree\n",
    "        return inorder_traversal(node.left) + [node.val] + inorder_traversal(node.right)\n",
    "    \n",
    "    sorted_values = inorder_traversal(root)\n",
    "    max_delta = 0\n",
    "    for i in range(1, len(sorted_values)):\n",
    "        # Calculate delta between consecutive elements\n",
    "        current_delta = sorted_values[i] - sorted_values[i - 1]\n",
    "        max_delta = max(max_delta, current_delta)\n",
    "    return max_delta\n",
    "\n",
    "# Example usage\n",
    "root = TreeNode(3, TreeNode(2, TreeNode(1)), TreeNode(10, TreeNode(9), TreeNode(11)))\n",
    "print(max_delta_in_bst(root))  # Output: 6\n"
   ]
  },
  {
   "cell_type": "code",
   "execution_count": null,
   "metadata": {},
   "outputs": [],
   "source": []
  },
  {
   "cell_type": "code",
   "execution_count": null,
   "metadata": {},
   "outputs": [],
   "source": []
  },
  {
   "cell_type": "code",
   "execution_count": null,
   "metadata": {},
   "outputs": [],
   "source": []
  },
  {
   "cell_type": "markdown",
   "metadata": {},
   "source": [
    "# string\n",
    "\n",
    "\n",
    "\n",
    "    "
   ]
  },
  {
   "cell_type": "markdown",
   "metadata": {},
   "source": [
    "## Unix simplity path"
   ]
  },
  {
   "cell_type": "code",
   "execution_count": 8,
   "metadata": {},
   "outputs": [],
   "source": [
    "class Solution:\n",
    "    def simplifyPath(self, path: str) -> str:\n",
    "\n",
    "        # Initialize a stack\n",
    "        stack = []\n",
    "\n",
    "        # Split the input string on \"/\" as the delimiter\n",
    "        # and process each portion one by one\n",
    "        for portion in path.split(\"/\"):\n",
    "\n",
    "            # If the current component is a \"..\", then\n",
    "            # we pop an entry from the stack if it's non-empty\n",
    "            if portion == \"..\":\n",
    "                if stack:\n",
    "                    stack.pop()\n",
    "            elif portion == \".\" or not portion:\n",
    "                # A no-op for a \".\" or an empty string\n",
    "                continue\n",
    "            else:\n",
    "                # Finally, a legitimate directory name, so we add it\n",
    "                # to our stack\n",
    "                stack.append(portion)\n",
    "\n",
    "        # Stich together all the directory names together\n",
    "        final_str = \"/\" + \"/\".join(stack)\n",
    "        return final_str"
   ]
  },
  {
   "cell_type": "code",
   "execution_count": null,
   "metadata": {},
   "outputs": [],
   "source": []
  },
  {
   "cell_type": "markdown",
   "metadata": {},
   "source": [
    "## Sort Using Custom Alphabet\n",
    "input: abcab \n",
    "    \n",
    "order: bca \n",
    "        \n",
    "output: bbcaa"
   ]
  },
  {
   "cell_type": "code",
   "execution_count": null,
   "metadata": {},
   "outputs": [],
   "source": [
    "def custom_sort(input_str, order):\n",
    "    # Count occurrences of each character in the input string\n",
    "    char_count = {}\n",
    "    for char in input_str:\n",
    "        char_count[char] = char_count.get(char, 0) + 1\n",
    "    \n",
    "    # Build the output string based on the specified order\n",
    "    output = []\n",
    "    for char in order:\n",
    "        if char in char_count:\n",
    "            output.append(char * char_count[char])\n",
    "            del char_count[char]  # Remove the character once it's sorted\n",
    "    \n",
    "    # Add remaining characters that weren't in 'order' to the end of the output\n",
    "    for char, count in char_count.items():\n",
    "        output.append(char * count)\n",
    "    \n",
    "    return ''.join(output)\n",
    "\n",
    "# Example usage\n",
    "input_str = \"abcab\"\n",
    "order = \"bca\"\n",
    "print(custom_sort(input_str, order))  # Output: \"bbcaa\"\n"
   ]
  },
  {
   "cell_type": "code",
   "execution_count": null,
   "metadata": {},
   "outputs": [],
   "source": []
  },
  {
   "cell_type": "markdown",
   "metadata": {},
   "source": [
    "## i18n\n",
    "\n",
    "Given a pattern (such as \"i18n\"), check if the input string (\"internationalization\") matches it."
   ]
  },
  {
   "cell_type": "code",
   "execution_count": 49,
   "metadata": {},
   "outputs": [],
   "source": [
    "def i18n(word, abbr):\n",
    "    p1 = p2 = 0\n",
    "    while p1 < len(word) and p2 < len(abbr):\n",
    "        if abbr[p2].isdigit():\n",
    "            if abbr[p2] == '0':\n",
    "                return False\n",
    "            \n",
    "            shift = 0\n",
    "            while p2<len(abbr) and abbr[p2].isdigit():\n",
    "                shift = (shift * 10) + abbr[p2]\n",
    "                p2 += 1\n",
    "            p1 += shift\n",
    "            \n",
    "        else:\n",
    "            if word[p1] != abbr[p2]:\n",
    "                return False\n",
    "            \n",
    "            p1 += 1\n",
    "            p2 += 1\n",
    "            \n",
    "    return p1 == len(word) and p2 == len(abbr)\n"
   ]
  },
  {
   "cell_type": "code",
   "execution_count": null,
   "metadata": {},
   "outputs": [],
   "source": []
  },
  {
   "cell_type": "markdown",
   "metadata": {},
   "source": [
    "## Almost Palindrome\n",
    "\n",
    "Examples\n",
    "tacocats --> True # tacocats --> tacocat \n",
    "\n",
    "racercar --> True # racercar --> racecar, \n",
    "\n",
    "racrcar kbayak --> True # kbayak --> kayak"
   ]
  },
  {
   "cell_type": "code",
   "execution_count": 50,
   "metadata": {},
   "outputs": [],
   "source": [
    "def validPalin(s):\n",
    "    def check_palin(s, i, j):\n",
    "        while i<j:\n",
    "            if s[i] != s[j]:\n",
    "                return False\n",
    "            i += 1\n",
    "            j -= 1\n",
    "        return True\n",
    "\n",
    "    i = 0\n",
    "    j = len(s) - 1\n",
    "    while i < j:\n",
    "        if s[i] != s[j]:\n",
    "            return check_palin(s, i+1, j) or check_palin(s, i, j-1)\n",
    "        i += 1\n",
    "        j -= 1\n",
    "    return True"
   ]
  },
  {
   "cell_type": "code",
   "execution_count": null,
   "metadata": {},
   "outputs": [],
   "source": []
  },
  {
   "cell_type": "markdown",
   "metadata": {},
   "source": [
    "## Nearest Palindrome Distance\n",
    "\n",
    "take an input of 1993. The nearest number below it is 1991 and the nearest one above it is 2002. In this case, 1991 is close so that distance value is 2."
   ]
  },
  {
   "cell_type": "code",
   "execution_count": 85,
   "metadata": {},
   "outputs": [
    {
     "name": "stdout",
     "output_type": "stream",
     "text": [
      "(2, {131, 999, 1001, 111, 121})\n",
      "(1, {0, 1, 2, 9, 11})\n"
     ]
    }
   ],
   "source": [
    "def nearestPalindrome(n):\n",
    "    str_n = str(n)\n",
    "    half_len = len(str_n) // 2\n",
    "    \n",
    "    first_half = str_n[:half_len] + (str_n[half_len] if len(str_n) % 2 != 0 else '')\n",
    "    \n",
    "    candidates = set()\n",
    "    \n",
    "    for diff in [-1, 0, 1]:\n",
    "        new_half = str(int(first_half) + diff)\n",
    "        candidates.add(int(new_half + new_half[: half_len + (0 if (len(str_n) % 2) == 1 else 1)][::-1]))\n",
    "    \n",
    "    candidates.add(10**len(str_n) + 1)\n",
    "    candidates.add(10**len(str_n) - 1)\n",
    "    \n",
    "    # find the nearest one \n",
    "    nearest_distance = float('inf')\n",
    "    for candidate in candidates:\n",
    "        if candidate == n:\n",
    "            continue\n",
    "        nearest_distance = min(nearest_distance, abs(n-candidate))\n",
    "        \n",
    "        \n",
    "    return nearest_distance, candidates\n",
    "\n",
    "# Example usage\n",
    "# print(nearestPalindrome(1993))  # Output: 2\n",
    "print(nearestPalindrome(123))   # Example output might be 2 (121 or 125)\n",
    "print(nearestPalindrome(1))     # Example output might be 1 (0 or 2)\n"
   ]
  },
  {
   "cell_type": "code",
   "execution_count": null,
   "metadata": {},
   "outputs": [],
   "source": []
  },
  {
   "cell_type": "code",
   "execution_count": null,
   "metadata": {},
   "outputs": [],
   "source": []
  },
  {
   "cell_type": "markdown",
   "metadata": {},
   "source": [
    "## Next Permutation\n",
    "\n",
    "next_permutation(12) = 21 \n",
    "\n",
    "next_permutation(315) = 351 \n",
    "\n",
    "next_permutation(583) = 835 \n",
    "\n",
    "next_permutation(12389) = 12398 \n",
    "\n",
    "next_permutation(34722641) = 34724126"
   ]
  },
  {
   "cell_type": "code",
   "execution_count": 52,
   "metadata": {},
   "outputs": [],
   "source": [
    "def swap(nums, i, j):\n",
    "    nums[i], nums[j] = nums[j], nums[i]\n",
    "\n",
    "def reverse(nums, i):\n",
    "    j = len(nums) - 1\n",
    "    while i < j:\n",
    "        swap(nums, i, j)\n",
    "        i += 1\n",
    "        j -= 1\n",
    "\n",
    "def nextPermutation(nums):\n",
    "    i = len(nums) - 2 \n",
    "    \n",
    "    while i >= 0 and nums[i+1] < nums[i]:\n",
    "        i -= 1\n",
    "    \n",
    "    if i >= 0:\n",
    "        j = len(nums) - 1\n",
    "        while nums[j] < nums[i]:\n",
    "            j -= 1\n",
    "        swap(nums, i, j)\n",
    "    reverse(nums, i + 1)\n",
    "    \n",
    "    return nums"
   ]
  },
  {
   "cell_type": "code",
   "execution_count": null,
   "metadata": {},
   "outputs": [],
   "source": []
  },
  {
   "cell_type": "markdown",
   "metadata": {},
   "source": [
    "## City Generator\n",
    "For example:\n",
    "● NY:7M ● SF:5M ● LA:8M\n",
    "The probability to generate NY is 7/20, SF is 5/20 and LA 8/20."
   ]
  },
  {
   "cell_type": "code",
   "execution_count": 53,
   "metadata": {},
   "outputs": [],
   "source": [
    "import random\n",
    "\n",
    "def create_city_selector(cities):\n",
    "    cumulative_probabilities = []\n",
    "    city_names = []\n",
    "    total_population = sum(population for _, population in cities)\n",
    "    \n",
    "    cumulative_sum = 0\n",
    "    for city, population in cities:\n",
    "        city_names.append(city)\n",
    "        cumulative_sum += population / total_population\n",
    "        cumulative_probabilities.append(cumulative_sum)\n",
    "    \n",
    "    def select_city():\n",
    "        rand = random.random()\n",
    "        for i, cumulative_prob in enumerate(cumulative_probabilities):\n",
    "            if rand < cumulative_prob:\n",
    "                return city_names[i]\n",
    "    \n",
    "    return select_city\n",
    "\n",
    "# Input list of cities with populations\n",
    "cities = [(\"NY\", 7), (\"SF\", 5), (\"LA\", 8)]\n",
    "\n",
    "# Create a city selector function\n",
    "city_selector = create_city_selector(cities)\n",
    "\n",
    "# # Example of repeatedly calling the city selector to select a city based on population probabilities\n",
    "# for _ in range(10):\n",
    "#     print(city_selector())\n"
   ]
  },
  {
   "cell_type": "code",
   "execution_count": null,
   "metadata": {},
   "outputs": [],
   "source": []
  },
  {
   "cell_type": "markdown",
   "metadata": {},
   "source": [
    "## 1249. Minimum Remove to Make Valid Parentheses\n",
    "\n",
    "Given a string s of '(' , ')' and lowercase English characters.\n",
    "Input: s = \"lee(t(c)o)de)\"\n",
    "    \n",
    "Output: \"lee(t(c)o)de\"\n",
    "    \n",
    "Explanation: \"lee(t(co)de)\" , \"lee(t(c)ode)\" would also be accepted."
   ]
  },
  {
   "cell_type": "code",
   "execution_count": 55,
   "metadata": {},
   "outputs": [],
   "source": [
    "class Solution:\n",
    "    def minRemoveToMakeValid(self, s: str) -> str:\n",
    "        indexes_to_remove = set()\n",
    "        stack = []\n",
    "        for i, c in enumerate(s):\n",
    "            if c not in \"()\":\n",
    "                continue\n",
    "            if c == \"(\":\n",
    "                stack.append(i)\n",
    "            elif not stack:\n",
    "                indexes_to_remove.add(i)\n",
    "            else:\n",
    "                stack.pop()\n",
    "        indexes_to_remove = indexes_to_remove.union(set(stack))\n",
    "        string_builder = []\n",
    "        for i, c in enumerate(s):\n",
    "            if i not in indexes_to_remove:\n",
    "                string_builder.append(c)\n",
    "        return \"\".join(string_builder)"
   ]
  },
  {
   "cell_type": "code",
   "execution_count": null,
   "metadata": {},
   "outputs": [],
   "source": []
  },
  {
   "cell_type": "markdown",
   "metadata": {},
   "source": [
    "## Add minimum amount of parentheses to make a string of parentheses balanced\n",
    "\n",
    "Input: ((( Output: 3\n",
    "\n",
    "Input: ()) Output: 1\n",
    "\n",
    "Input: (()) Output: 0\n",
    "\n",
    "Input: )( Output: 2"
   ]
  },
  {
   "cell_type": "code",
   "execution_count": 57,
   "metadata": {},
   "outputs": [],
   "source": [
    "def parenthe(s):\n",
    "    left = right = 0\n",
    "    for char in s:\n",
    "        left += 1 if char == '(' else -1\n",
    "        if left == -1:\n",
    "            left += 1\n",
    "            right += 1\n",
    "    return left + right \n"
   ]
  },
  {
   "cell_type": "code",
   "execution_count": null,
   "metadata": {},
   "outputs": [],
   "source": []
  },
  {
   "cell_type": "markdown",
   "metadata": {},
   "source": [
    "## Strobogrammatic Numbers\n",
    "\n",
    "For example: 101, 16091, 808 etc."
   ]
  },
  {
   "cell_type": "code",
   "execution_count": 77,
   "metadata": {},
   "outputs": [],
   "source": [
    "def StrobogrammaticNumbers(num):\n",
    "    num_str = str(num)\n",
    "    hashmap = {'0':'0', '1':'1', '6':'9', '8':'8','9':'6'}\n",
    "    \n",
    "    left = 0\n",
    "    right = len(num_str) - 1\n",
    "    \n",
    "    while left <= right:\n",
    "        if num_str[left] not in hashmap or num_str[left] == hashmap[num_str[right]]:\n",
    "            left += 1\n",
    "            right -= 1\n",
    "        else:\n",
    "            return False\n",
    "    return True"
   ]
  },
  {
   "cell_type": "code",
   "execution_count": null,
   "metadata": {},
   "outputs": [],
   "source": []
  },
  {
   "cell_type": "markdown",
   "metadata": {},
   "source": [
    "# Sort Airline Tickets\n",
    "\n",
    "● input: [('SFO', 'LAX'), ('LAX', 'NYC'), ('ORD', 'SFO')]\n",
    "● output: [('ORD', 'SFO'), ('SFO', 'LAX'), ('LAX', 'NYC')]\n"
   ]
  },
  {
   "cell_type": "code",
   "execution_count": 79,
   "metadata": {},
   "outputs": [],
   "source": [
    "def find_airline(tickets):\n",
    "    filght_map = {departure: arrival for departure, arrival in tickets}\n",
    "    \n",
    "    departures = set(filght_map.keys())\n",
    "    arrivals = set(filght_map.values())\n",
    "\n",
    "    start = (departures - arrivals).pop()\n",
    "    \n",
    "    itinerary = [start]\n",
    "    \n",
    "    while start in filght_map:\n",
    "        next_stop = filght_map[start]\n",
    "        itinerary.append(next_stop)\n",
    "        start = next_stop \n",
    "    return itinerary \n"
   ]
  },
  {
   "cell_type": "code",
   "execution_count": null,
   "metadata": {},
   "outputs": [],
   "source": []
  },
  {
   "cell_type": "code",
   "execution_count": null,
   "metadata": {},
   "outputs": [],
   "source": [
    "## Find all substrings that are palindromes in a given string"
   ]
  },
  {
   "cell_type": "code",
   "execution_count": 83,
   "metadata": {},
   "outputs": [
    {
     "name": "stdout",
     "output_type": "stream",
     "text": [
      "['a', 'aa', 'a', 'b', 'bb', 'abba', 'aabbaa', 'b', 'a', 'aa', 'baab', 'a', 'b']\n"
     ]
    }
   ],
   "source": [
    "def find_palindromic_substrings(s):\n",
    "    def expand_around_center(left, right):\n",
    "        # Expand around the center from left and right indices\n",
    "        while left >= 0 and right < len(s) and s[left] == s[right]:\n",
    "            # Add palindrome to the result\n",
    "            palindromes.append(s[left:right+1])\n",
    "            left -= 1\n",
    "            right += 1\n",
    "\n",
    "    palindromes = []\n",
    "\n",
    "    for i in range(len(s)):\n",
    "        # Odd-length palindromes, single character center\n",
    "        expand_around_center(i, i)\n",
    "        # Even-length palindromes, adjacent characters center\n",
    "        expand_around_center(i, i+1)\n",
    "\n",
    "    return list(palindromes)\n",
    "\n",
    "# Example usage\n",
    "s = \"aabbaab\"\n",
    "print(find_palindromic_substrings(s))"
   ]
  },
  {
   "cell_type": "code",
   "execution_count": null,
   "metadata": {},
   "outputs": [],
   "source": []
  },
  {
   "cell_type": "markdown",
   "metadata": {},
   "source": [
    "## Centaur Friends\n",
    "\n",
    "count_all_friend_requests([120, 110]) => 1\n",
    "\n",
    " Friend requests 1 0\n",
    " \n",
    "count_all_friend_requests([120, 110, 99]) => 1\n",
    "\n",
    " Friend requests 1 0 0"
   ]
  },
  {
   "cell_type": "code",
   "execution_count": 86,
   "metadata": {},
   "outputs": [
    {
     "name": "stdout",
     "output_type": "stream",
     "text": [
      "1\n",
      "1\n",
      "4\n",
      "6\n"
     ]
    }
   ],
   "source": [
    "def can_send_request(sender_age, recipient_age):\n",
    "    # Rule 3: A centaur over 100 years old will not send a friend request to a recipient under 100 years old.\n",
    "    if sender_age > 100 and recipient_age < 100:\n",
    "        return False\n",
    "    # Rule 1: A centaur will only send a friend request if the recipient is at least (X/2 + 7) of the sender's age.\n",
    "    if recipient_age < sender_age / 2 + 7:\n",
    "        return False\n",
    "    # Rule 2: A centaur will not send a friend request to another centaur that is older than it is.\n",
    "    if recipient_age > sender_age:\n",
    "        return False\n",
    "    return True\n",
    "\n",
    "def count_all_friend_requests(ages):\n",
    "    total_requests = 0\n",
    "    for i in range(len(ages)):\n",
    "        for j in range(len(ages)):\n",
    "            if i == j:\n",
    "                continue  # A centaur won't send a friend request to itself.\n",
    "            if can_send_request(ages[i], ages[j]):\n",
    "                total_requests += 1\n",
    "    return total_requests\n",
    "\n",
    "# Examples\n",
    "print(count_all_friend_requests([120, 110]))  # Output: 1\n",
    "print(count_all_friend_requests([120, 110, 99]))  # Output: 1\n",
    "print(count_all_friend_requests([120, 45, 230, 400, 88, 300, 101]))  # Output: 4\n",
    "print(count_all_friend_requests([120, 45, 55, 230, 400, 88, 300, 101]))  # Output: 6\n"
   ]
  },
  {
   "cell_type": "markdown",
   "metadata": {},
   "source": [
    "## Longest Common Prefix\n"
   ]
  },
  {
   "cell_type": "code",
   "execution_count": 87,
   "metadata": {},
   "outputs": [],
   "source": [
    "\n",
    "def lonest_prefix(strs):\n",
    "    if not strs:\n",
    "        return None \n",
    "    \n",
    "    prefix = strs[0]\n",
    "    \n",
    "    for s in strs[1:]:\n",
    "        while not s.startswith(prefix):\n",
    "            prefix = prefix[:-1]\n",
    "            if not prefix:\n",
    "                return None \n",
    "    return prefix "
   ]
  },
  {
   "cell_type": "code",
   "execution_count": null,
   "metadata": {},
   "outputs": [],
   "source": []
  },
  {
   "cell_type": "markdown",
   "metadata": {},
   "source": [
    "## Brightest Position on Street"
   ]
  },
  {
   "cell_type": "code",
   "execution_count": 90,
   "metadata": {},
   "outputs": [
    {
     "name": "stdout",
     "output_type": "stream",
     "text": [
      "-1\n"
     ]
    }
   ],
   "source": [
    "def brightestPosition(lights):\n",
    "    events = []\n",
    "    \n",
    "    # Step 1: Create events\n",
    "    for position, range_ in lights:\n",
    "        events.append((position - range_, +1))  # Start of range\n",
    "        events.append((position + range_ + 1, -1))  # End of range\n",
    "    \n",
    "    # Step 2: Sort events\n",
    "    events.sort()\n",
    "    \n",
    "    max_brightness = 0\n",
    "    current_brightness = 0\n",
    "    brightest_position = float('inf')\n",
    "    \n",
    "    # Step 3: Sweep through events\n",
    "    for pos, delta in events:\n",
    "        current_brightness += delta\n",
    "        if current_brightness > max_brightness:\n",
    "            max_brightness = current_brightness\n",
    "            brightest_position = pos\n",
    "    \n",
    "    return brightest_position\n",
    "\n",
    "# Example usage\n",
    "lights = [[-3,2], [1,2], [3,3]]\n",
    "print(brightestPosition(lights))  # Output: -1\n"
   ]
  },
  {
   "cell_type": "code",
   "execution_count": null,
   "metadata": {},
   "outputs": [],
   "source": []
  },
  {
   "cell_type": "code",
   "execution_count": 91,
   "metadata": {},
   "outputs": [],
   "source": [
    "## Find all elements that appear more than ⌊ N / 3 ⌋ times in an array of size N"
   ]
  },
  {
   "cell_type": "code",
   "execution_count": 92,
   "metadata": {},
   "outputs": [],
   "source": [
    "def find_majority(nums):\n",
    "    if not nums:\n",
    "        return None \n",
    "    \n",
    "    cand1, cand2, count1, count2 = None, None, 0, 0\n",
    "    \n",
    "    for num in nums:\n",
    "        if num == cand1:\n",
    "            count1 += 1\n",
    "        elif num == cand2:\n",
    "            count2 += 1\n",
    "        elif count1 == 0:\n",
    "            cand1, count1 = num, 1\n",
    "        elif count2 == 0:\n",
    "            cand2, count2 = num, 1\n",
    "        else:\n",
    "            count1 -=1 \n",
    "            count2 -=1\n",
    "            \n",
    "    result = []\n",
    "    count1, count2 = 0, 0\n",
    "    for num in nums:\n",
    "        if num == cand1:\n",
    "            count1 += 1\n",
    "        elif num == cand2:\n",
    "            count2 += 1\n",
    "            \n",
    "    if count1 > len(nums) // 3:\n",
    "        result.append(cand1)\n",
    "    if count2 > len(nums) // 3:\n",
    "        result.append(cand2)\n",
    "        \n",
    "    return result \n"
   ]
  },
  {
   "cell_type": "code",
   "execution_count": null,
   "metadata": {},
   "outputs": [],
   "source": []
  },
  {
   "cell_type": "markdown",
   "metadata": {},
   "source": [
    "## Trip Planner\n",
    "\n",
    "\n",
    "D: [10, 8, 9, 11, 7]\n",
    "R: [8, 8, 10, 7, 9]\n",
    "The minimum cost will be D[1] + R[3] = 15"
   ]
  },
  {
   "cell_type": "code",
   "execution_count": 94,
   "metadata": {},
   "outputs": [],
   "source": [
    "def minimize_cost(D, R):\n",
    "    n = len(R)\n",
    "    \n",
    "    # Step 1: Preprocess R[] to find the minimum future price for each day\n",
    "    min_future_prices = [float('inf')] * n\n",
    "    min_price = float('inf')\n",
    "    for i in range(n - 1, -1, -1):\n",
    "        min_price = min(min_price, R[i])\n",
    "        min_future_prices[i] = min_price\n",
    "    \n",
    "    # Step 2: Iterate through D[] to find the minimum total cost\n",
    "    min_cost = float('inf')\n",
    "    min_cost_indices = (-1, -1)\n",
    "    for i in range(len(D) - 1):  # Ensure there's at least one future day in R[]\n",
    "        future_min_price = min_future_prices[i + 1]  # Minimum future price in R[]\n",
    "        total_cost = D[i] + future_min_price\n",
    "        if total_cost < min_cost:\n",
    "            min_cost = total_cost\n",
    "            min_cost_indices = (i, min_future_prices.index(future_min_price, i + 1))\n",
    "    \n",
    "    return min_cost, min_cost_indices"
   ]
  },
  {
   "cell_type": "code",
   "execution_count": null,
   "metadata": {},
   "outputs": [],
   "source": []
  },
  {
   "cell_type": "markdown",
   "metadata": {},
   "source": [
    "## Course Schedule\n",
    "\n",
    "Input: 3, [[1,0], [2, 1]]\n",
    "    \n",
    "Output: true"
   ]
  },
  {
   "cell_type": "code",
   "execution_count": 95,
   "metadata": {},
   "outputs": [],
   "source": [
    "class Solution:\n",
    "    def dfs(self, node, adj, visit, inStack):\n",
    "        # If the node is already in the stack, we have a cycle.\n",
    "        if inStack[node]:\n",
    "            return True\n",
    "        if visit[node]:\n",
    "            return False\n",
    "        # Mark the current node as visited and part of current recursion stack.\n",
    "        visit[node] = True\n",
    "        inStack[node] = True\n",
    "        for neighbor in adj[node]:\n",
    "            if self.dfs(neighbor, adj, visit, inStack):\n",
    "                return True\n",
    "        # Remove the node from the stack.\n",
    "        inStack[node] = False\n",
    "        return False\n",
    "\n",
    "    def canFinish(self, numCourses: int, prerequisites) -> bool:\n",
    "        adj = [[] for _ in range(numCourses)]\n",
    "        for prerequisite in prerequisites:\n",
    "            adj[prerequisite[1]].append(prerequisite[0])\n",
    "\n",
    "        visit = [False] * numCourses\n",
    "        inStack = [False] * numCourses\n",
    "        for i in range(numCourses):\n",
    "            if self.dfs(i, adj, visit, inStack):\n",
    "                return False\n",
    "        return True"
   ]
  },
  {
   "cell_type": "code",
   "execution_count": null,
   "metadata": {},
   "outputs": [],
   "source": []
  },
  {
   "cell_type": "markdown",
   "metadata": {},
   "source": [
    "## Pangram\n",
    "\n",
    "Input: \"aaccbc\" \n",
    "\n",
    "Alphabet: \"abc\" \n",
    "\n",
    "Output: \"accb\""
   ]
  },
  {
   "cell_type": "code",
   "execution_count": 96,
   "metadata": {},
   "outputs": [],
   "source": [
    "\n",
    "def pangram(input_str, alphabet):\n",
    "    for n in range(len(alphabet), len(input_str)):\n",
    "        for i in range(0, len(input_str) - n):\n",
    "            window = input_str[i:i+n]\n",
    "            if set(window) >= set(alphabet):\n",
    "                return window \n",
    "    return None \n",
    "\n",
    "# Input_str= \"aaccbc\" \n",
    "# Alphabet= \"abc\"\n",
    "# print(pangram(Input_str, Alphabet))"
   ]
  },
  {
   "cell_type": "code",
   "execution_count": 99,
   "metadata": {},
   "outputs": [],
   "source": [
    "def find_pangram(input_str, alphabet):\n",
    "    \n",
    "    input_str= \"aaccbc\" \n",
    "    alphabet= \"abc\"\n",
    "        \n",
    "    alphabet_set = set(alphabet)\n",
    "    left = 0\n",
    "    result_len = float(\"inf\")\n",
    "    result_start = 0\n",
    "    count_map = {}\n",
    "    \n",
    "    for right in range(len(input_str)):\n",
    "        if input_str[right] in alphabet_set:\n",
    "            count_map[input_str[right]] = count_map.get(input_str[right], 0) + 1\n",
    "            \n",
    "        while set(count_map.keys()) >= alphabet_set:\n",
    "            if right-left+1 < result_len:\n",
    "                result_len = right-left+1\n",
    "                result_start=left \n",
    "                \n",
    "            if input_str[left] in count_map:\n",
    "                count_map[input_str[left]] -= 1\n",
    "                if count_map[input_str[left]] == 0:\n",
    "                    del count_map[input_str[left]]\n",
    "            \n",
    "            left += 1\n",
    "            \n",
    "                \n",
    "    return input_str[result_start, result_start+result_len]"
   ]
  },
  {
   "cell_type": "code",
   "execution_count": 98,
   "metadata": {},
   "outputs": [],
   "source": [
    "# Dynamic Sliding Window\n",
    "def pangram3(input_str, alphabet):\n",
    "    if set(input_str) < set(alphabet):\n",
    "        return None \n",
    "    \n",
    "    char_count = {n:0 for n in alphabet}\n",
    "    \n",
    "    window = [0,0]\n",
    "    min_window=[0, len(input_str)]\n",
    "    \n",
    "    for i, n in enumerate(input_str):\n",
    "        window[1] = i\n",
    "        char_count[n] += 1\n",
    "        \n",
    "        \n",
    "        while char_count[input_str[window[0]]] > 1:\n",
    "            char_count[input_str[window[0]]] -= 1\n",
    "            window[0] += 1\n",
    "            \n",
    "        if window[1] - window[0] < min_window[1]-min_window[0]:\n",
    "            if not any(n == 0 for n in char_count.itervalues()):\n",
    "                min_window=window[:]\n",
    "        \n",
    "    return input_str[min_window[0]: min_window[1]+1]"
   ]
  },
  {
   "cell_type": "code",
   "execution_count": null,
   "metadata": {},
   "outputs": [],
   "source": []
  },
  {
   "cell_type": "code",
   "execution_count": null,
   "metadata": {},
   "outputs": [],
   "source": []
  },
  {
   "cell_type": "code",
   "execution_count": null,
   "metadata": {},
   "outputs": [],
   "source": []
  },
  {
   "cell_type": "markdown",
   "metadata": {},
   "source": [
    "# Arithmetic \n",
    "# Number"
   ]
  },
  {
   "cell_type": "markdown",
   "metadata": {},
   "source": [
    "## Arithmetic Expression (Eval)\n",
    "\n",
    "\n",
    "For example, for \"2*3+4\", return 10\n"
   ]
  },
  {
   "cell_type": "code",
   "execution_count": 13,
   "metadata": {},
   "outputs": [],
   "source": [
    "def eval_expression(s):\n",
    "    # Initialize the result to 0\n",
    "    res = 0\n",
    "    # Split the expression by \"+\" to handle addition\n",
    "    add_expressions = s.split(\"+\")\n",
    "    \n",
    "    for add_exp in add_expressions:\n",
    "        # Split by \"*\" to handle multiplication within each addition segment\n",
    "        mul_expressions = add_exp.split(\"*\")\n",
    "        # Initialize the multiplication result to 1 (multiplicative identity)\n",
    "        mul_result = 1\n",
    "        for mul_exp in mul_expressions:\n",
    "            # Multiply the numbers within the current segment\n",
    "            mul_result *= int(mul_exp)\n",
    "        # Accumulate the result of multiplication into the total result\n",
    "        res += mul_result\n",
    "    \n",
    "    return res\n",
    "\n",
    "# Example usage\n",
    "expression = \"2*3+4\"\n",
    "print(eval_expression(expression))  # Output: 10\n"
   ]
  },
  {
   "cell_type": "markdown",
   "metadata": {},
   "source": [
    "follow up handing parenthesis"
   ]
  },
  {
   "cell_type": "code",
   "execution_count": 15,
   "metadata": {},
   "outputs": [
    {
     "name": "stdout",
     "output_type": "stream",
     "text": [
      "14\n"
     ]
    }
   ],
   "source": [
    "def evaluate_expression(expression):\n",
    "    def evaluate(stack):\n",
    "        \"\"\"Evaluates the current stack until hitting an opening parenthesis or the stack is empty.\"\"\"\n",
    "        num_stack = []\n",
    "        while stack and stack[-1] != '(':\n",
    "            num_stack.append(stack.pop())\n",
    "        if stack and stack[-1] == '(':\n",
    "            stack.pop()  # Remove the opening parenthesis\n",
    "        # Reverse the num_stack to get the correct order\n",
    "        num_stack.reverse()\n",
    "        # Calculate the result of the current sub-expression\n",
    "        result = calculate(num_stack)\n",
    "        stack.append(result)\n",
    "\n",
    "    def calculate(num_stack):\n",
    "        \"\"\"Calculates the result of a sub-expression represented as a list.\"\"\"\n",
    "        # Assume the first number in num_stack is the initial result\n",
    "        result = num_stack[0]\n",
    "        i = 1\n",
    "        while i < len(num_stack):\n",
    "            if num_stack[i] == '+':\n",
    "                result += num_stack[i + 1]\n",
    "            elif num_stack[i] == '*':\n",
    "                result *= num_stack[i + 1]\n",
    "            i += 2\n",
    "        return result\n",
    "\n",
    "    def get_number(expression, index):\n",
    "        \"\"\"Parses a number starting from the given index.\"\"\"\n",
    "        num = 0\n",
    "        while index < len(expression) and expression[index].isdigit():\n",
    "            num = num * 10 + int(expression[index])\n",
    "            index += 1\n",
    "        return num, index\n",
    "\n",
    "    # Main evaluation logic starts here\n",
    "    i = 0\n",
    "    stack = []\n",
    "    while i < len(expression):\n",
    "        if expression[i] == ' ':\n",
    "            i += 1\n",
    "            continue\n",
    "        elif expression[i].isdigit():\n",
    "            num, i = get_number(expression, i)\n",
    "            stack.append(num)\n",
    "            continue  # Continue to the next iteration without incrementing i since get_number does it\n",
    "        elif expression[i] in ['+', '*', '(']:\n",
    "            stack.append(expression[i])\n",
    "        elif expression[i] == ')':\n",
    "            evaluate(stack)\n",
    "        i += 1\n",
    "\n",
    "    # Evaluate any remaining expression\n",
    "    if stack:\n",
    "        evaluate(stack)\n",
    "    \n",
    "    return stack[0] if stack else 0\n",
    "\n",
    "# Example usage\n",
    "print(evaluate_expression(\"2 * (3 + 4)\"))  # Output: 14\n"
   ]
  },
  {
   "cell_type": "code",
   "execution_count": null,
   "metadata": {},
   "outputs": [],
   "source": []
  },
  {
   "cell_type": "markdown",
   "metadata": {},
   "source": [
    "## depth sum\n",
    "\n",
    "\n",
    "Given such an array, calculate its depth sum. For example:\n",
    "Input: [4, [5, 6]]\n",
    "Output: 4 + 2 * 5 + 2 * 6 = 26\n",
    "    "
   ]
  },
  {
   "cell_type": "code",
   "execution_count": 48,
   "metadata": {},
   "outputs": [
    {
     "name": "stdout",
     "output_type": "stream",
     "text": [
      "26\n",
      "61\n"
     ]
    }
   ],
   "source": [
    "#  Recognizes the elements as a union type.\n",
    "\n",
    "def depth_sum(nested_list, depth=1):\n",
    "    total = 0\n",
    "    for item in nested_list:\n",
    "        if isinstance(item, int):\n",
    "            # If the item is an integer, add it multiplied by its depth\n",
    "            total += item * depth\n",
    "        elif isinstance(item, list):\n",
    "            # If the item is a list, recursively calculate its depth sum\n",
    "            total += depth_sum(item, depth + 1)\n",
    "    return total\n",
    "\n",
    "# Example usage\n",
    "print(depth_sum([4, [5, 6]]))  # Output: 26\n",
    "print(depth_sum([8, 4, [5, [9], 3], 6]))  # Output for the extended example\n"
   ]
  },
  {
   "cell_type": "code",
   "execution_count": null,
   "metadata": {},
   "outputs": [],
   "source": []
  },
  {
   "cell_type": "markdown",
   "metadata": {},
   "source": [
    "## Merge Two Sorted Interval Arrays\n",
    "\n",
    "\n",
    "Input:\n",
    "{[1,2], [3,9]}\n",
    "{[4,6], [8,10], [11,12]}\n",
    "\n",
    "\n",
    "Output should be: {[1,2], [3,10], [11,12]}"
   ]
  },
  {
   "cell_type": "code",
   "execution_count": 23,
   "metadata": {},
   "outputs": [],
   "source": [
    "def two_interval_list(A, B):\n",
    "    i = j = 0\n",
    "    resu = []\n",
    "    \n",
    "    while i < len(A) or j < len(B):\n",
    "        if i == len(A):\n",
    "            curr = B[j]\n",
    "            j += 1\n",
    "        elif j == len(B):\n",
    "            curr = A[i]\n",
    "            i += 1\n",
    "        elif A[i][0] < B[j][0]:\n",
    "            curr = A[i]\n",
    "            i += 1\n",
    "        else:\n",
    "            curr = B[j]\n",
    "            j+= 1\n",
    "        \n",
    "        \n",
    "        if resu and resu[-1][-1] >= curr[0]:\n",
    "            resu[-1][-1] = max(resu[-1][-1], curr[-1])\n",
    "        \n",
    "        else:\n",
    "            resu.append(curr)\n",
    "        \n",
    "    return resu   "
   ]
  },
  {
   "cell_type": "markdown",
   "metadata": {},
   "source": [
    "## Arithmetic Power\n",
    "\n",
    "First, we need to ensure the candidate understand what a to the power of b is. This is commonly written as a^b or a**b. Give a simple example, a = 3, b = 4, a^b = 3 * 3 * 3 * 3 = 81."
   ]
  },
  {
   "cell_type": "code",
   "execution_count": 24,
   "metadata": {},
   "outputs": [],
   "source": [
    "\n",
    "def power(self, x, n):\n",
    "    if n == 0:\n",
    "        return 1\n",
    "    if n < 0:\n",
    "        return 1 / self.myPow(x, -1 * n)\n",
    "        \n",
    "    if n % 2 == 0:\n",
    "        return self.myPow(x*x, n//2)\n",
    "    else:\n",
    "        return x * self.myPow(x*x, (n-1)//2)"
   ]
  },
  {
   "cell_type": "code",
   "execution_count": null,
   "metadata": {},
   "outputs": [],
   "source": []
  },
  {
   "cell_type": "markdown",
   "metadata": {},
   "source": [
    "## Merge Sorted Arrays\n",
    "\n",
    "A = [1, 2, 3, _, _, _, _]\n",
    "\n",
    "B = [2, 4, 6, 100]\n",
    "\n",
    "Expected output:\n",
    "    \n",
    "A = [1, 2, 2, 3, 4, 6, 100]"
   ]
  },
  {
   "cell_type": "code",
   "execution_count": 61,
   "metadata": {},
   "outputs": [
    {
     "name": "stdout",
     "output_type": "stream",
     "text": [
      "[1, 2, 9, 6, 9, 100]\n"
     ]
    }
   ],
   "source": [
    "def merge_arrays2(A, B):\n",
    "    lenA = len([x for x in A if x is not None])\n",
    "    lenNone = len(A) - lenA\n",
    "    lenB = len(B)\n",
    "    \n",
    "    indexA = lenA - 1\n",
    "    indexB = lenB - 1\n",
    "    mergeindex = len(A) - 1\n",
    "    count = 0\n",
    "    while count < lenNone:\n",
    "        if indexA >= 0 and A[indexA] > B[indexB]:\n",
    "            A[mergeindex] = A[indexA]\n",
    "            indexA -= 1\n",
    "        else:\n",
    "            A[mergeindex] = B[indexB]\n",
    "            indexB -= 1\n",
    "        mergeindex -= 1\n",
    "        count += 1\n",
    "    return A\n",
    "\n",
    "# Input\n",
    "A = [1, 2, 9, None, None, None]\n",
    "B = [2, 4, 6, 100]\n",
    "\n",
    "# Expected Output: A = [1, 2, 2, 3, 4, 6, 100]\n",
    "print(merge_arrays2(A, B))"
   ]
  },
  {
   "cell_type": "code",
   "execution_count": null,
   "metadata": {},
   "outputs": [],
   "source": []
  },
  {
   "cell_type": "code",
   "execution_count": null,
   "metadata": {},
   "outputs": [],
   "source": []
  },
  {
   "cell_type": "code",
   "execution_count": null,
   "metadata": {},
   "outputs": [],
   "source": []
  },
  {
   "cell_type": "markdown",
   "metadata": {},
   "source": []
  },
  {
   "cell_type": "code",
   "execution_count": 30,
   "metadata": {},
   "outputs": [],
   "source": []
  },
  {
   "cell_type": "code",
   "execution_count": 31,
   "metadata": {},
   "outputs": [],
   "source": []
  },
  {
   "cell_type": "markdown",
   "metadata": {},
   "source": [
    "## Local Minimum"
   ]
  },
  {
   "cell_type": "code",
   "execution_count": 40,
   "metadata": {},
   "outputs": [],
   "source": [
    "\n",
    "def findLocalMin(arr):\n",
    "    if not arr:\n",
    "        return None \n",
    "    res = []\n",
    "    n = len(arr)\n",
    "    if n == 1 or arr[0] <= arr[1]:\n",
    "        res.append(arr[0])\n",
    "    if arr[n-1] <= arr[n-2]:\n",
    "        res.append(arr[n-1])\n",
    "    \n",
    "    for i in range(1, n-1):\n",
    "        if arr[i] <= arr[i -1] and arr[i] <= arr[i+1]:\n",
    "            res.append(arr[i])\n",
    "    \n",
    "    return res"
   ]
  },
  {
   "cell_type": "code",
   "execution_count": 41,
   "metadata": {},
   "outputs": [],
   "source": [
    "def findLocalMin2(arr):\n",
    "    if not arr:\n",
    "        return None \n",
    "    \n",
    "    low, high = 0, len(arr)-1\n",
    "    \n",
    "    while low<=high:\n",
    "        mid = low+(high-low) // 2\n",
    "        \n",
    "        if (mid == 0 or arr[mid-1]>=arr[mid]) and (mid == len(arr)-1 or arr[mid+1] >= arr[mid]):\n",
    "            return arr[mid]\n",
    "        \n",
    "        if mid > 0 and arr[mid-1] < arr[mid]:\n",
    "            high = mid - 1\n",
    "        else:\n",
    "            low = mid + 1\n",
    "            \n",
    "    return None "
   ]
  },
  {
   "cell_type": "markdown",
   "metadata": {},
   "source": [
    "## Moving average"
   ]
  },
  {
   "cell_type": "code",
   "execution_count": 43,
   "metadata": {},
   "outputs": [],
   "source": [
    "\n",
    "def moving_average(arr, k):\n",
    "    res = []\n",
    "    \n",
    "    moving_sum = sum(arr[:k])\n",
    "    \n",
    "    res.append(moving_sum)\n",
    "    \n",
    "    for i in range(1, len(arr)-k+1):\n",
    "        moving_sum = moving_sum - arr[i-1] + arr[i+k-1]\n",
    "        res.append(moving_sum)\n",
    "\n",
    "    return [num / k for num in res]\n"
   ]
  },
  {
   "cell_type": "code",
   "execution_count": null,
   "metadata": {},
   "outputs": [],
   "source": []
  },
  {
   "cell_type": "markdown",
   "metadata": {},
   "source": [
    "## Dot Product Of Sparse Vectors\n",
    "\n",
    "Input: nums1 = [1,0,0,2,3], nums2 = [0,3,0,4,0]\n",
    "\n",
    "Output: 8\n",
    "\n",
    "Explanation: v1 = SparseVector(nums1) , v2 = SparseVector(nums2)\n",
    "\n",
    "v1.dotProduct(v2) = 1*0 + 0*3 + 0*0 + 2*4 + 3*0 = 8"
   ]
  },
  {
   "cell_type": "code",
   "execution_count": 58,
   "metadata": {},
   "outputs": [],
   "source": [
    "class SparseVector:\n",
    "    def __init__(self, nums):\n",
    "        self.array = nums\n",
    "\n",
    "    def dotProduct(self, vec):\n",
    "        result = 0\n",
    "        for num1, num2 in zip(self.array, vec.array):\n",
    "            result += num1 * num2\n",
    "        return result"
   ]
  },
  {
   "cell_type": "code",
   "execution_count": 60,
   "metadata": {},
   "outputs": [],
   "source": [
    "class SparseVector:\n",
    "    def __init__(self, nums):\n",
    "        self.pairs = []\n",
    "        for index, value in enumerate(nums):\n",
    "            if value != 0:\n",
    "                self.pairs.append([index, value])\n",
    "\n",
    "    def dotProduct(self, vec: 'SparseVector') -> int:\n",
    "        result = 0\n",
    "        p, q = 0, 0\n",
    "\n",
    "        while p < len(self.pairs) and q < len(vec.pairs):\n",
    "            if self.pairs[p][0] == vec.pairs[q][0]:\n",
    "                result += self.pairs[p][1] * vec.pairs[q][1]\n",
    "                p += 1\n",
    "                q += 1\n",
    "            elif self.pairs[p][0] < vec.pairs[q][0]:\n",
    "                p += 1\n",
    "            else:\n",
    "                q += 1\n",
    "\n",
    "        return result\n"
   ]
  },
  {
   "cell_type": "code",
   "execution_count": 46,
   "metadata": {},
   "outputs": [
    {
     "name": "stdout",
     "output_type": "stream",
     "text": [
      "bbcaa\n"
     ]
    }
   ],
   "source": []
  },
  {
   "cell_type": "markdown",
   "metadata": {},
   "source": [
    "## Uniformly Pick Max Integer in Array\n"
   ]
  },
  {
   "cell_type": "code",
   "execution_count": 69,
   "metadata": {},
   "outputs": [
    {
     "name": "stdout",
     "output_type": "stream",
     "text": [
      "3\n"
     ]
    }
   ],
   "source": [
    "import random\n",
    "def find_random_max(nums):\n",
    "    max_num = max(nums)\n",
    "    max_index = [i for i, num in enumerate(nums) if num == max_num ]\n",
    "    return random.choice(max_index)\n",
    "\n",
    "nums = [1, 3, 5, 7, 7, 6]\n",
    "print(find_random_max(nums))"
   ]
  },
  {
   "cell_type": "markdown",
   "metadata": {},
   "source": [
    "## Print matrix diagonals"
   ]
  },
  {
   "cell_type": "code",
   "execution_count": 70,
   "metadata": {},
   "outputs": [
    {
     "name": "stdout",
     "output_type": "stream",
     "text": [
      "[[12], [7, 45], [21, -2, -3], [31, 14, 15, 4], [11, 27, 36, -13], [19, 71, 55], [26, 34], [15]]\n"
     ]
    }
   ],
   "source": [
    "def antidiagonal_order(matrix):\n",
    "    if not matrix or not matrix[0]:\n",
    "        return []\n",
    "\n",
    "    rows, cols = len(matrix), len(matrix[0])\n",
    "    antidiagonals = [[] for _ in range(rows + cols - 1)]\n",
    "\n",
    "    for i in range(rows):\n",
    "        for j in range(cols):\n",
    "            # The sum of indices (i + j) determines the antidiagonal number\n",
    "            antidiagonals[i + j].append(matrix[i][j])\n",
    "\n",
    "    return antidiagonals\n",
    "\n",
    "# Example usage\n",
    "matrix = [\n",
    "    [12, 7, 21, 31, 11],\n",
    "    [45, -2, 14, 27, 19],\n",
    "    [-3, 15, 36, 71, 26],\n",
    "    [4, -13, 55, 34, 15]\n",
    "]\n",
    "\n",
    "print(antidiagonal_order(matrix))\n"
   ]
  },
  {
   "cell_type": "code",
   "execution_count": null,
   "metadata": {},
   "outputs": [],
   "source": []
  },
  {
   "cell_type": "markdown",
   "metadata": {},
   "source": [
    "## 560. Subarray Sum Equals K\n",
    "\n",
    "Given an array of integers nums and an integer k, return the total number of subarrays whose sum equals to k.\n",
    "\n",
    "Input: nums = [1,1,1], k = 2\n",
    "\n",
    "Output: 2\n"
   ]
  },
  {
   "cell_type": "code",
   "execution_count": 74,
   "metadata": {},
   "outputs": [],
   "source": [
    "class Solution:\n",
    "\tdef subarraySum(self, nums, k: int) -> int:\n",
    "\n",
    "\t\tresult = 0 \n",
    "\t\tprefix_sum = 0\n",
    "\t\td = {0 : 1}\n",
    "\n",
    "\t\tfor num in nums:\n",
    "\t\t\n",
    "\t\t\tprefix_sum = prefix_sum + num\n",
    "\n",
    "\t\t\tif prefix_sum - k in d:\n",
    "\t\t\t\n",
    "\t\t\t\tresult = result + d[prefix_sum - k]\n",
    "\n",
    "\t\t\tif prefix_sum not in d:\n",
    "\t\t\t\n",
    "\t\t\t\td[prefix_sum] = 1\n",
    "\t\t\telse:\n",
    "\t\t\t\td[prefix_sum] = d[prefix_sum] + 1\n",
    "\n",
    "\t\treturn result"
   ]
  },
  {
   "cell_type": "code",
   "execution_count": null,
   "metadata": {},
   "outputs": [],
   "source": []
  },
  {
   "cell_type": "markdown",
   "metadata": {},
   "source": [
    "## Count Number of Teams\n",
    "\n",
    "Input: rating = [2,5,3,4,1]\n",
    "    \n",
    "Output: 3\n",
    "    \n",
    "Explanation: We can form three teams given the conditions. (2,3,4), (5,4,1), (5,3,1)."
   ]
  },
  {
   "cell_type": "code",
   "execution_count": 82,
   "metadata": {},
   "outputs": [
    {
     "name": "stdout",
     "output_type": "stream",
     "text": [
      "3\n",
      "0\n",
      "4\n"
     ]
    }
   ],
   "source": [
    "def num_teams(rating):\n",
    "    n = len(rating)\n",
    "    teams = 0\n",
    "    \n",
    "    # Iterate through each soldier to be the middle soldier of a team\n",
    "    for j in range(n):\n",
    "        less_left = less_right = greater_left = greater_right = 0\n",
    "        \n",
    "        # Count soldiers with lower and higher ratings before the current soldier\n",
    "        for i in range(j):\n",
    "            if rating[i] < rating[j]:\n",
    "                less_left += 1\n",
    "            elif rating[i] > rating[j]:\n",
    "                greater_left += 1\n",
    "                \n",
    "        # Count soldiers with lower and higher ratings after the current soldier\n",
    "        for k in range(j + 1, n):\n",
    "            if rating[k] < rating[j]:\n",
    "                less_right += 1\n",
    "            elif rating[k] > rating[j]:\n",
    "                greater_right += 1\n",
    "                \n",
    "        # Calculate the number of teams that can be formed\n",
    "        teams += less_left * greater_right + greater_left * less_right\n",
    "        \n",
    "    return teams\n",
    "\n",
    "# Example usage\n",
    "print(num_teams([2,5,3,4,1]))  # Output: 3\n",
    "print(num_teams([2,1,3]))      # Output: 0\n",
    "print(num_teams([1,2,3,4]))    # Output: 4\n"
   ]
  },
  {
   "cell_type": "markdown",
   "metadata": {},
   "source": [
    "## sample_without_replacement"
   ]
  },
  {
   "cell_type": "code",
   "execution_count": 100,
   "metadata": {},
   "outputs": [],
   "source": [
    "import random\n",
    "\n",
    "def sample_without_replacement(input_list, k):\n",
    "    # If the input list size is less or equal to k, return the input list\n",
    "    if len(input_list) <= k:\n",
    "        return input_list\n",
    "    \n",
    "    output = []\n",
    "    input_size = len(input_list)\n",
    "    for _ in range(k):\n",
    "        # Generate a random index\n",
    "        index = random.randint(0, input_size - 1)\n",
    "        # Append the element at the random index to the output list\n",
    "        output.append(input_list[index])\n",
    "        # Swap the selected element with the last element\n",
    "        input_list[index], input_list[input_size - 1] = input_list[input_size - 1], input_list[index]\n",
    "        # Reduce the size of the input list to simulate pop_back()\n",
    "        input_size -= 1\n",
    "    \n",
    "    return output"
   ]
  },
  {
   "cell_type": "code",
   "execution_count": null,
   "metadata": {},
   "outputs": [],
   "source": []
  },
  {
   "cell_type": "code",
   "execution_count": null,
   "metadata": {},
   "outputs": [],
   "source": []
  },
  {
   "cell_type": "markdown",
   "metadata": {},
   "source": [
    "# heap\n",
    "\n",
    "Find the kth largest value in an array\n",
    "\n"
   ]
  },
  {
   "cell_type": "code",
   "execution_count": 75,
   "metadata": {},
   "outputs": [
    {
     "name": "stdout",
     "output_type": "stream",
     "text": [
      "5\n"
     ]
    }
   ],
   "source": [
    "import heapq\n",
    "\n",
    "def find_kth_largest(nums, k):\n",
    "    # Convert nums into a max-heap\n",
    "    max_heap = [-num for num in nums]\n",
    "    heapq.heapify(max_heap)\n",
    "    \n",
    "    # Pop the largest element k times\n",
    "    for _ in range(k-1):\n",
    "        heapq.heappop(max_heap)\n",
    "    \n",
    "    # The kth largest element\n",
    "    return -heapq.heappop(max_heap)\n",
    "\n",
    "# Example usage\n",
    "nums = [3,2,1,5,6,4]\n",
    "k = 2\n",
    "print(find_kth_largest(nums, k))  # Output: 5\n"
   ]
  },
  {
   "cell_type": "code",
   "execution_count": null,
   "metadata": {},
   "outputs": [],
   "source": []
  },
  {
   "cell_type": "markdown",
   "metadata": {},
   "source": [
    "## op K frequent elements\n",
    "\n",
    "● Given [1,1,1,2,2,3] and k = 2, return [1,2]. ● Given [1,1,1,1] and k = 1 return [1].\n",
    "● Given [1,2,3,2,3] and k = 2 return [2,3]. ● Given [1,2,3,4] and k = 2 return [1,2]."
   ]
  },
  {
   "cell_type": "code",
   "execution_count": 54,
   "metadata": {},
   "outputs": [],
   "source": [
    "from collections import Counter\n",
    "import heapq\n",
    "\n",
    "def op_k_frequent3(nums, k):\n",
    "    nums_count = Counter(nums)\n",
    "    heap = []\n",
    "    \n",
    "    for num, freq in nums_count.items():\n",
    "        heapq.heappush(heap, (freq, num))\n",
    "        if len(heap) > k:\n",
    "            heapq.heappop(heap)\n",
    "    \n",
    "    return [heapq.heappop(heap)[1] for _ in range(k)][::-1]"
   ]
  },
  {
   "cell_type": "code",
   "execution_count": null,
   "metadata": {},
   "outputs": [],
   "source": []
  },
  {
   "cell_type": "markdown",
   "metadata": {},
   "source": [
    "## Sorted Iterator over K Sorted Lists\n",
    "\n",
    "[[1, 5, 7], [2, 3, 10], [4, 6, 9]]\n",
    "\n",
    "[1, 2, 3, 4, 5, 6, 7, 9, 10]"
   ]
  },
  {
   "cell_type": "code",
   "execution_count": 64,
   "metadata": {},
   "outputs": [],
   "source": [
    "# Example usage\n",
    "lists = \n",
    "def sorted_iterator(lists):\n",
    "    \n",
    "    heap = []\n",
    "    resu = []\n",
    "    # Initialize the heap with the first element from each list\n",
    "    for i, lst in enumerate(lists):\n",
    "        if lst:  # Ensure the list is not empty\n",
    "            heapq.heappush(heap, (lst[0], i, 0))\n",
    "\n",
    "    # Continue until the heap is empty\n",
    "    while heap:\n",
    "        val, list_idx, elem_idx = heapq.heappop(heap)\n",
    "        resu.append(val)\n",
    "        # If there is a next element in the same list, push it onto the heap\n",
    "        if elem_idx + 1 < len(lists[list_idx]):\n",
    "            next_val = lists[list_idx][elem_idx + 1]\n",
    "            heapq.heappush(heap, (next_val, list_idx, elem_idx + 1))\n",
    "    return resu"
   ]
  },
  {
   "cell_type": "code",
   "execution_count": 65,
   "metadata": {},
   "outputs": [
    {
     "data": {
      "text/plain": [
       "[1, 2, 3, 4, 5, 6, 7, 9, 10]"
      ]
     },
     "execution_count": 65,
     "metadata": {},
     "output_type": "execute_result"
    }
   ],
   "source": []
  },
  {
   "cell_type": "code",
   "execution_count": null,
   "metadata": {},
   "outputs": [],
   "source": []
  },
  {
   "cell_type": "markdown",
   "metadata": {},
   "source": [
    "## Merge 3 sorted integer arrays\n",
    "\n",
    "removed in the output\n",
    "\n",
    "A: [-100, -10, -1, -1, 0, 0, 0, 1, 1, 5] \n",
    "\n",
    "B: [-90, -2, 0, 0, 0, 3, 5, 5]\n",
    "        \n",
    "C: [-20, -1, 0, 0, 1, 4, 4]\n",
    "    \n",
    "Output: [-100, -90, -20, -10, -2, -1, 0, 1, 3, 4, 5]\n",
    "    "
   ]
  },
  {
   "cell_type": "code",
   "execution_count": 76,
   "metadata": {},
   "outputs": [
    {
     "name": "stdout",
     "output_type": "stream",
     "text": [
      "[-100, -90, -20, -10, -2, -1, 0, 1, 3, 4, 5]\n"
     ]
    }
   ],
   "source": [
    "import heapq\n",
    "\n",
    "def merge_sorted_arrays_no_duplicates(A, B, C):\n",
    "    iterators = [iter(A), iter(B), iter(C)]\n",
    "    \n",
    "    heap = []\n",
    "    for i, it in enumerate(iterators):\n",
    "        first_element = next(it, None)\n",
    "        if first_element is not None:\n",
    "            heapq.heappush(heap, (first_element, i))\n",
    "    \n",
    "    result = []\n",
    "    prev_element = None\n",
    "    current_elements = [None] * len(iterators)\n",
    "    \n",
    "    while heap:\n",
    "        value, index = heapq.heappop(heap)\n",
    "        # Skip duplicates by comparing with the previous element added to result\n",
    "        if prev_element != value:\n",
    "            result.append(value)\n",
    "            prev_element = value\n",
    "        \n",
    "        current_elements[index] = next(iterators[index], None)\n",
    "        if current_elements[index] is not None:\n",
    "            heapq.heappush(heap, (current_elements[index], index))\n",
    "    \n",
    "    return result\n",
    "\n",
    "# Example usage\n",
    "A = [-100, -10, -1, -1, 0, 0, 0, 1, 1, 5]\n",
    "B = [-90, -2, 0, 0, 0, 3, 5, 5]\n",
    "C = [-20, -1, 0, 0, 1, 4, 4]\n",
    "\n",
    "merged_array_no_duplicates = merge_sorted_arrays_no_duplicates(A, B, C)\n",
    "print(merged_array_no_duplicates)\n"
   ]
  },
  {
   "cell_type": "code",
   "execution_count": null,
   "metadata": {},
   "outputs": [],
   "source": []
  },
  {
   "cell_type": "code",
   "execution_count": null,
   "metadata": {},
   "outputs": [],
   "source": []
  },
  {
   "cell_type": "code",
   "execution_count": null,
   "metadata": {},
   "outputs": [],
   "source": []
  },
  {
   "cell_type": "code",
   "execution_count": null,
   "metadata": {},
   "outputs": [],
   "source": []
  },
  {
   "cell_type": "code",
   "execution_count": null,
   "metadata": {},
   "outputs": [],
   "source": []
  }
 ],
 "metadata": {
  "kernelspec": {
   "display_name": "Python 3",
   "language": "python",
   "name": "python3"
  },
  "language_info": {
   "codemirror_mode": {
    "name": "ipython",
    "version": 3
   },
   "file_extension": ".py",
   "mimetype": "text/x-python",
   "name": "python",
   "nbconvert_exporter": "python",
   "pygments_lexer": "ipython3",
   "version": "3.8.3"
  }
 },
 "nbformat": 4,
 "nbformat_minor": 4
}
