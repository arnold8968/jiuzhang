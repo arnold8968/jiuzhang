{
 "cells": [
  {
   "cell_type": "code",
   "execution_count": 1,
   "metadata": {},
   "outputs": [],
   "source": [
    "# 1. Find an extra element in array B that is not in array A. (不知道是不是leetcode上的题目).\n",
    "# 2. Given an array A with increasing integers, find the kth missing ‍‌‍‍‍‍‍‌‍‍‌‍‍‌‍‌‍‍‌element in A (Leetcode 1539).\n",
    "\n",
    "\n",
    "\n",
    "\n",
    "# 我得到了关于视频通话的热门问题。表格是video_calls，包含关于发起者和接收者以及通话的时长和日期的信息。另一个表格是dim_user，包含一些关于用户的信息。\n",
    "# 要求首先进行分组（非常简单，无需提及），然后第二个问题是获取所有在法国使用视频通话的用户。唯一的技巧是记得要包括作为接收者和发起者的用户。然后使用union来合并。如果有兴趣，我可以写出一个答案。\n",
    "# 随后的产品意识问题围绕着如何利用数据来确定对群组通话功能的兴趣。我们可以从数据中提取哪些信号来决定是否应该构建群组视频通话功能？\n",
    "\n",
    "\n",
    "# valid number, without e version\n",
    "# tree diameter（follow up: each tree has multiple nodes)\n",
    "    \n",
    "# kth largest number in array (used quickSelect)\n",
    "# search from the top left to bottom right and print path\n",
    "\n",
    "\n",
    "\n",
    "\n",
    "# 第一题：给一个sorted array, 找target出现了多少次。\n",
    "# 第二题：经典题叁腰斯。\n",
    "\n",
    "\n",
    "\n",
    "# RS 第一轮电面 screening 秒跪。第一题理蔲汣叄疤。第二题黎寇午石溜。题目简单秒杀，拒得也快无反馈\n",
    "\n",
    "\n",
    "\n",
    "#  Meta L4 MLE Phone + VO\n",
    "# 店面加vo（有一轮shadow）一共八道coding题, 问题有微小变化和一些followup\n",
    "# 散思流，仪器流而，而义务，就起伞，物流，司令吧，依旧就，就散吧。\n",
    "\n",
    "# ML Design, harmful ‍‌‍‍‍‍‍‌‍‍‌‍‍‌‍‌‍‍‌content detect\n",
    "\n",
    "\n",
    "\n",
    "\n",
    "# Code 1: 中国大姐不苟言笑。考的不简单，做的时候最后几乎没剩下时间，因为第一题恶心各种case，导致第二题只有15分钟。幸亏做的过程中想到了dp formula，时空复杂度上应该是最优解了，但是面试官还follow up了问了有没有不用dp的解。讨论了下，对方还算满意。留了5分钟尬聊。\n",
    "# 1. Valid number without E. but all other rules apply.\n",
    "# 2. Longest Consecutive increasing path in a 2d matrix filled with integers\n",
    "# Code 2: 白人小哥。非常nice，考的题目非常常规。\n",
    "# 1. simplify path （有cwd，然后你cd 有个argument，问最后啥path。很简单直接的题，做明白tag LC就够了）\n",
    "# 2. binary tree vertical order traversal。BFS就行，避免sort column index，这就是最优解了。\n",
    "# ML Design： 常规推荐系统设计。没啥特别的。面试官是国人小哥，然而级别高的吓人。能看出人非常好，一点都没有难为人，把推荐系统的各种细节都问了下看看coverage，测试下下我大范围上明不明白，然后就不纠结就move on下一个component。最后留了7-8分钟聊天，相当于免费career coach。谢谢兄弟。\n",
    "# BQ：印度大哥，人非常舒服。就是谈project，仔细deep dive 你到底做了什么，你做了哪些决策，为什么做了这些决策，遇到了哪些challenge，等等。要准备故事，而且最好有戏多的那种故事。很遗憾，楼主呆的地方同事都不是省油的灯，所以故事贼tm多，而且还能串成线，也算是因祸得福应对了这次面试。。。\n",
    "\n",
    "\n",
    "\n",
    "\n",
    "# 第一轮面试考的两题。一题543一题是827。面试官是个在英国的越南人。第一题有变动，距离的定义是node的数量而不是edge的数量。第二题我给的不是最优解。但是面试官全程也没有问我有没有可以优化的地方，只是问了复杂度然后就没问了。\n",
    "# 第二轮也是两道题。面试官是印度人。一题是Sort 3 sorted arrays另一题是没见过的但是不是很难。第一题让你对3个list进行排序，但是要剔除掉重复的元素。第二题是给定2个string，第一个string是待排序的，第二个是用来参考的order，根据每个字符在第二个string的位置，把第一个string进行排序，如果字符不在第二个string就根据它们在第一个string的先后顺序接到‍‌‍‍‍‍‍‌‍‍‌‍‍‌‍‌‍‍‌排序结果的最后面。\n",
    "\n",
    "\n",
    "\n",
    "\n",
    "# 第一题是将三个list合并，并去除重复\n",
    "# 第二题是tree inorder\n",
    "# 第三题是palindromic\n",
    "# 第四题是找树的lowest ancestor\n",
    "\n",
    "\n",
    "\n",
    "# 1, 二姨. 输入时普通列表，删掉重复元素\n",
    "# 2, 伊尔四舅\n",
    "# 第二轮： 挺阳光的东方大国小哥，出的题都不是常见题。中间还会问基础‍‌‍‍‍‍‍‌‍‍‌‍‍‌‍‌‍‍‌知识\n",
    "# 1， 尔耳刘武， 改动版。返回是true, false\n",
    "# 2,  药散伞 魔改版。输入是一整个图\n",
    "\n",
    "\n",
    "\n",
    "# 第一题（粑粑）原题秒了，第二题（摇铃就要）有一点变化，要输出路径。稍微花点时间写出来了，followup就问了时间空间复杂度就到时间了。\n",
    "\n",
    "\n",
    "\n",
    "\n",
    "# 第一个是 给了一个二叉搜索树, 求数值的和. 第二个是从字符中去除无效的括号, 比如\")(\" 就是无效的.\n",
    "\n",
    "\n",
    "\n",
    "\n",
    "\n"
   ]
  },
  {
   "cell_type": "code",
   "execution_count": null,
   "metadata": {},
   "outputs": [],
   "source": []
  },
  {
   "cell_type": "code",
   "execution_count": 2,
   "metadata": {},
   "outputs": [],
   "source": [
    "# Arithmetic Expression (Eval)\n",
    "\n",
    "# Description\n",
    "# Question description\n",
    "# Given a string representing an arithmetic expression with only addition and multiplication operators, return the result of the calculation.\n",
    "# For example, for \"2*3+4\", return 10\n",
    "# Question Statement\n",
    "# Question statement\n",
    "# ● If the example contains multiplication before addition - it's expected from the candidate to think of precedence\n",
    "# ● If the example contains only single digit numbers - it's expected from the candidate to either think of numbers with more than one digit or to use this to their advantage (the locations of the signs is fixed in the odd places for 0 based array)\n",
    "# Problem Solving\n",
    "# Usually candidate struggle because they don't have a good mental representation of the expressions at hand. They don't see that what they have at hand is just a sum of multiplications.\n",
    "# One simple hint that could help is to give a longer, more general input and ask to add the implicit parentheses given by the precedence of * over +.\n",
    "# Alternatively, asking candidates to derive the (n-ary) expression tree for a more general case can help. They need to realize that:\n",
    "# ● the tree has maximum depth 2. You might ask about depth to help.\n",
    "# ● '+' is always at the root\n",
    "# ● '*' is always at depth 1\n",
    "# ● numbers are always at depth 2 or 1.\n",
    "# Sometimes candidates want to use stacks in some way or another, though stacks are not necessary. Usually this leads them to working solutions, so you might want to let them work out their way, then later on guide them to a better solution, possibly using the expression tree hint I just described.\n",
    "# I find that if I guide them to the optimal solution before they actually work out and code their own, then I spend all time on problem solving and not enough on coding and the interview feels essentially wasted. Whereas if I let them do the stack solution, it usually works fine and I have more code signal.\n",
    "# Trivial solution\n",
    "# Use 'built in' function like 'eval' - this is nice if the candidate mention it."
   ]
  },
  {
   "cell_type": "code",
   "execution_count": 4,
   "metadata": {},
   "outputs": [
    {
     "data": {
      "text/plain": [
       "10"
      ]
     },
     "execution_count": 4,
     "metadata": {},
     "output_type": "execute_result"
    }
   ],
   "source": [
    "eval(\"4+2*3\")"
   ]
  },
  {
   "cell_type": "code",
   "execution_count": 6,
   "metadata": {},
   "outputs": [],
   "source": [
    "def eval(s):\n",
    "    res = 0\n",
    "    mulexps = s.split(\"+\")\n",
    "    for mulexp in mulexps:\n",
    "        nums = mulexp.split(\"*\")\n",
    "        n = 1\n",
    "        \n",
    "        for num in nums:\n",
    "            n *= int(num)\n",
    "        res += n\n",
    "    return res"
   ]
  },
  {
   "cell_type": "code",
   "execution_count": 7,
   "metadata": {},
   "outputs": [
    {
     "name": "stdout",
     "output_type": "stream",
     "text": [
      "19\n"
     ]
    }
   ],
   "source": [
    "print(eval(\"4+2*3*2+3\"))"
   ]
  },
  {
   "cell_type": "code",
   "execution_count": null,
   "metadata": {},
   "outputs": [],
   "source": []
  },
  {
   "cell_type": "code",
   "execution_count": null,
   "metadata": {},
   "outputs": [],
   "source": []
  },
  {
   "cell_type": "code",
   "execution_count": null,
   "metadata": {},
   "outputs": [],
   "source": [
    "# Find the kth largest value in an array\n",
    "\n",
    "# Question description\n",
    "# Given an integer array and an integer number k. Return the k-th largest element in the array.\n",
    "# Examples:\n",
    "# array = [5, -3, 9, 1] * k = 0 => return: 9 * k = 1 => return: 5 * k = 3 => return: -3\n"
   ]
  },
  {
   "cell_type": "code",
   "execution_count": 11,
   "metadata": {},
   "outputs": [
    {
     "data": {
      "text/plain": [
       "4"
      ]
     },
     "execution_count": 11,
     "metadata": {},
     "output_type": "execute_result"
    }
   ],
   "source": [
    "nums = [3,2,1,5,6,4]\n",
    "sorted(nums,reverse=True)[2]"
   ]
  },
  {
   "cell_type": "code",
   "execution_count": 16,
   "metadata": {},
   "outputs": [],
   "source": [
    "import heapq\n",
    "def kth_largest(nums, k):\n",
    "    heap = []\n",
    "    heap_size = 0\n",
    "    for num in nums:\n",
    "        heapq.heappush(heap, num)\n",
    "        heap_size += 1\n",
    "        if heap_size > k:\n",
    "            heapq.heappop(heap)\n",
    "    return heap[0]"
   ]
  },
  {
   "cell_type": "code",
   "execution_count": 18,
   "metadata": {},
   "outputs": [
    {
     "name": "stdout",
     "output_type": "stream",
     "text": [
      "3\n"
     ]
    }
   ],
   "source": [
    "k = 4\n",
    "print(kth_largest(nums, k))"
   ]
  },
  {
   "cell_type": "code",
   "execution_count": null,
   "metadata": {},
   "outputs": [],
   "source": []
  },
  {
   "cell_type": "code",
   "execution_count": null,
   "metadata": {},
   "outputs": [],
   "source": []
  },
  {
   "cell_type": "code",
   "execution_count": 19,
   "metadata": {},
   "outputs": [],
   "source": [
    "# Imagine an array that contains both integers and nested arrays, such as the following: [8, 4, [5, [9], 3], 6]. The depth sum is described as the weighted sum of each integer, weighted by their respective depths. In the example, 8's depth is 1, while 9's is 3.\n",
    "# Given such an array, calculate its depth sum. For example:\n",
    "# Input: [4, [5, 6]]\n",
    "# Output: 4 + 2 * 5 + 2 * 6 = 26"
   ]
  },
  {
   "cell_type": "code",
   "execution_count": 22,
   "metadata": {},
   "outputs": [],
   "source": [
    "nested_list = [4, [5, 6]]\n",
    "\n",
    "def depth_sum(nested_list, depth = 1):\n",
    "    total = 0\n",
    "    for element in nested_list:\n",
    "        if isinstance(element, int):\n",
    "            total += element * depth\n",
    "        elif isinstance(element, list):\n",
    "            total += depth_sum(element, depth+1)\n",
    "    return total"
   ]
  },
  {
   "cell_type": "code",
   "execution_count": 23,
   "metadata": {},
   "outputs": [
    {
     "name": "stdout",
     "output_type": "stream",
     "text": [
      "26\n"
     ]
    }
   ],
   "source": [
    "print(depth_sum(nested_list, depth = 1))"
   ]
  },
  {
   "cell_type": "code",
   "execution_count": null,
   "metadata": {},
   "outputs": [],
   "source": []
  },
  {
   "cell_type": "code",
   "execution_count": null,
   "metadata": {},
   "outputs": [],
   "source": []
  },
  {
   "cell_type": "code",
   "execution_count": null,
   "metadata": {},
   "outputs": [],
   "source": []
  },
  {
   "cell_type": "code",
   "execution_count": null,
   "metadata": {},
   "outputs": [],
   "source": []
  },
  {
   "cell_type": "code",
   "execution_count": null,
   "metadata": {},
   "outputs": [],
   "source": []
  }
 ],
 "metadata": {
  "kernelspec": {
   "display_name": "Python 3",
   "language": "python",
   "name": "python3"
  },
  "language_info": {
   "codemirror_mode": {
    "name": "ipython",
    "version": 3
   },
   "file_extension": ".py",
   "mimetype": "text/x-python",
   "name": "python",
   "nbconvert_exporter": "python",
   "pygments_lexer": "ipython3",
   "version": "3.8.3"
  }
 },
 "nbformat": 4,
 "nbformat_minor": 4
}
