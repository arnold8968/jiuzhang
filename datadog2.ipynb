{
 "cells": [
  {
   "cell_type": "code",
   "execution_count": 1,
   "metadata": {},
   "outputs": [],
   "source": [
    "class TreeNode:\n",
    "    def __init__(self, val=0, left=None, right=None):\n",
    "        self.val = val\n",
    "        self.left = left\n",
    "        self.right = right\n",
    "\n",
    "def maxPathSum(root):\n",
    "    if not root:\n",
    "        return float('-inf')  # Return negative infinity if the tree is empty\n",
    "\n",
    "    # If it's a leaf node, return its value\n",
    "    if not root.left and not root.right:\n",
    "        return root.val\n",
    "\n",
    "    # Recursively find the maximum path sum in the left and right subtrees\n",
    "    left_sum = maxPathSum(root.left)\n",
    "    right_sum = maxPathSum(root.right)\n",
    "\n",
    "    # Return the maximum of the two sums plus the current node's value\n",
    "    return root.val + max(left_sum, right_sum)\n"
   ]
  },
  {
   "cell_type": "code",
   "execution_count": null,
   "metadata": {},
   "outputs": [],
   "source": []
  },
  {
   "cell_type": "code",
   "execution_count": null,
   "metadata": {},
   "outputs": [],
   "source": []
  },
  {
   "cell_type": "code",
   "execution_count": 2,
   "metadata": {},
   "outputs": [
    {
     "name": "stdout",
     "output_type": "stream",
     "text": [
      "Registered q1\n",
      "Registered q2\n",
      "Registered q3\n",
      "Log q1, q2\n",
      "Log\n",
      "Registered q4\n",
      "Log q4\n"
     ]
    }
   ],
   "source": [
    "def process_strings(strings):\n",
    "    query_dict = {}\n",
    "    query_id_counter = 1\n",
    "    results = []\n",
    "\n",
    "    for s in strings:\n",
    "        if s.startswith(\"Q: \"):\n",
    "            query = s[3:].strip()\n",
    "            if query not in query_dict:\n",
    "                query_dict[query] = f\"q{query_id_counter}\"\n",
    "                query_id_counter += 1\n",
    "            results.append(f\"Registered {query_dict[query]}\")\n",
    "        elif s.startswith(\"L: \"):\n",
    "            log = s[3:].strip()\n",
    "            matched_qids = []\n",
    "            for query in query_dict:\n",
    "                if query in log:\n",
    "                    matched_qids.append(query_dict[query])\n",
    "            if matched_qids:\n",
    "                results.append(f\"Log {', '.join(matched_qids)}\")\n",
    "            else:\n",
    "                results.append(\"Log\")\n",
    "\n",
    "    return results\n",
    "\n",
    "# Example Usage\n",
    "strings = [\n",
    "    \"Q: hello world\",\n",
    "    \"Q: data failure\",\n",
    "    \"Q: world hello\",\n",
    "    \"L: hello world we have a data failure\",\n",
    "    \"L: oh no system error\",\n",
    "    \"Q: system error\",\n",
    "    \"L: oh no system error again\"\n",
    "]\n",
    "\n",
    "output = process_strings(strings)\n",
    "for line in output:\n",
    "    print(line)\n"
   ]
  },
  {
   "cell_type": "code",
   "execution_count": null,
   "metadata": {},
   "outputs": [],
   "source": []
  },
  {
   "cell_type": "code",
   "execution_count": null,
   "metadata": {},
   "outputs": [],
   "source": []
  },
  {
   "cell_type": "code",
   "execution_count": 3,
   "metadata": {},
   "outputs": [
    {
     "name": "stdout",
     "output_type": "stream",
     "text": [
      "[('Charlie', 5), ('Bob', 4), ('Alice', 3)]\n"
     ]
    }
   ],
   "source": [
    "from collections import Counter\n",
    "\n",
    "def sort_votes(votes):\n",
    "    # Count the votes for each person\n",
    "    vote_count = Counter(votes)\n",
    "    \n",
    "    # Sort the vote count dictionary by the number of votes in descending order\n",
    "    sorted_vote_count = sorted(vote_count.items(), key=lambda x: x[1], reverse=True)\n",
    "    \n",
    "    return sorted_vote_count\n",
    "\n",
    "# Example usage\n",
    "votes = [\n",
    "    \"Alice\", \"Bob\", \"Alice\", \"Bob\", \"Alice\", \"Charlie\",\n",
    "    \"Bob\", \"Bob\", \"Charlie\", \"Charlie\", \"Charlie\", \"Charlie\"\n",
    "]\n",
    "\n",
    "sorted_votes = sort_votes(votes)\n",
    "print(sorted_votes)\n"
   ]
  },
  {
   "cell_type": "code",
   "execution_count": null,
   "metadata": {},
   "outputs": [],
   "source": []
  },
  {
   "cell_type": "code",
   "execution_count": null,
   "metadata": {},
   "outputs": [],
   "source": []
  },
  {
   "cell_type": "code",
   "execution_count": 4,
   "metadata": {},
   "outputs": [
    {
     "name": "stdout",
     "output_type": "stream",
     "text": [
      "['apple|banana|cherry', 'apple|cherry|date', 'apple|banana|cherry|date']\n"
     ]
    }
   ],
   "source": [
    "def find_mutual_streams(streams, keywords):\n",
    "    # Convert keywords to a set for faster lookup\n",
    "    keyword_set = set(keywords)\n",
    "    \n",
    "    # List to store mutual streams\n",
    "    mutual_streams = []\n",
    "    \n",
    "    # Iterate over each stream\n",
    "    for stream in streams:\n",
    "        # Split the stream into a set of keywords\n",
    "        stream_keywords = set(stream.split('|'))\n",
    "        \n",
    "        # Check if all keywords are in the stream\n",
    "        if keyword_set.issubset(stream_keywords):\n",
    "            mutual_streams.append(stream)\n",
    "    \n",
    "    return mutual_streams\n",
    "\n",
    "# Example usage\n",
    "streams = [\n",
    "    \"apple|banana|cherry\",\n",
    "    \"apple|cherry|date\",\n",
    "    \"banana|date|elderberry\",\n",
    "    \"cherry|date|fig\",\n",
    "    \"apple|banana|cherry|date\"\n",
    "]\n",
    "\n",
    "keywords = [\"apple\", \"cherry\"]\n",
    "\n",
    "mutual_streams = find_mutual_streams(streams, keywords)\n",
    "print(mutual_streams)\n"
   ]
  },
  {
   "cell_type": "code",
   "execution_count": null,
   "metadata": {},
   "outputs": [],
   "source": []
  },
  {
   "cell_type": "code",
   "execution_count": null,
   "metadata": {},
   "outputs": [],
   "source": []
  },
  {
   "cell_type": "code",
   "execution_count": 5,
   "metadata": {},
   "outputs": [],
   "source": [
    "def valid_abbr(word, abbr):\n",
    "    i, j = 0, 0\n",
    "    while i < len(word) and j < len(abbr):\n",
    "        print(f\"word[{i}]: {word[i] if i < len(word) else 'N/A'}, abbr[{j}]: {abbr[j] if j < len(abbr) else 'N/A'}\")\n",
    "        if abbr[j].isdigit():\n",
    "            if abbr[j] == '0':\n",
    "                return False\n",
    "            num = 0\n",
    "            while j < len(abbr) and abbr[j].isdigit():\n",
    "                num = num * 10 + int(abbr[j])\n",
    "                j += 1\n",
    "            i += num\n",
    "        else:\n",
    "            if word[i] != abbr[j]:\n",
    "                return False\n",
    "            i += 1\n",
    "            j += 1\n",
    "    return i == len(word) and j == len(abbr)\n"
   ]
  },
  {
   "cell_type": "code",
   "execution_count": null,
   "metadata": {},
   "outputs": [],
   "source": []
  },
  {
   "cell_type": "code",
   "execution_count": null,
   "metadata": {},
   "outputs": [],
   "source": []
  },
  {
   "cell_type": "code",
   "execution_count": null,
   "metadata": {},
   "outputs": [],
   "source": [
    "class Solution:\n",
    "    def coinChange(self, coins: List[int], amount: int) -> int:        \n",
    "        dp=[math.inf] * (amount+1)\n",
    "        dp[0]=0\n",
    "        \n",
    "        for coin in coins:\n",
    "            for i in range(coin, amount+1):\n",
    "                if i-coin>=0:\n",
    "                    dp[i]=min(dp[i], dp[i-coin]+1)\n",
    "        \n",
    "        return -1 if dp[-1]==math.inf else dp[-1]\n",
    "                "
   ]
  },
  {
   "cell_type": "code",
   "execution_count": null,
   "metadata": {},
   "outputs": [],
   "source": []
  },
  {
   "cell_type": "code",
   "execution_count": null,
   "metadata": {},
   "outputs": [],
   "source": []
  },
  {
   "cell_type": "code",
   "execution_count": 7,
   "metadata": {},
   "outputs": [
    {
     "ename": "SyntaxError",
     "evalue": "invalid syntax (<ipython-input-7-8409307a8e4c>, line 1)",
     "output_type": "error",
     "traceback": [
      "\u001b[0;36m  File \u001b[0;32m\"<ipython-input-7-8409307a8e4c>\"\u001b[0;36m, line \u001b[0;32m1\u001b[0m\n\u001b[0;31m    sliding window\u001b[0m\n\u001b[0m            ^\u001b[0m\n\u001b[0;31mSyntaxError\u001b[0m\u001b[0;31m:\u001b[0m invalid syntax\n"
     ]
    }
   ],
   "source": [
    "# sliding window\n",
    "\n",
    "\n",
    "class Solution:\n",
    "    def medianSlidingWindow(self, nums: List[int], k: int) -> List[float]:\n",
    "        def findMedian(l, r):\n",
    "            new = sorted(nums[l:r+1])\n",
    "            # print(l, r, new)\n",
    "            if k%2 == 0: \n",
    "                return (new[k//2-1] + new[k//2])/2\n",
    "            if k%2: \n",
    "                return new[k//2]\n",
    "        n = len(nums)\n",
    "        res = []\n",
    "        for i in range(0,n-k+1):\n",
    "            l, r = i, i + k - 1\n",
    "            # print(l, r)\n",
    "            median = findMedian(l, r)\n",
    "            res.append(median)\n",
    "        return res\n",
    "\n",
    "    \n",
    "    "
   ]
  },
  {
   "cell_type": "code",
   "execution_count": null,
   "metadata": {},
   "outputs": [],
   "source": [
    "import heapq\n",
    "\n",
    "class SlidingWindowMedian:\n",
    "    def __init__(self):\n",
    "        self.max_heap = []  # Max-heap for the lower half of numbers\n",
    "        self.min_heap = []  # Min-heap for the upper half of numbers\n",
    "        self.delayed = {}   # Dictionary to keep track of delayed deletions\n",
    "\n",
    "    def add_num(self, num, index):\n",
    "        if not self.max_heap or num <= -self.max_heap[0]:\n",
    "            heapq.heappush(self.max_heap, -num)\n",
    "        else:\n",
    "            heapq.heappush(self.min_heap, num)\n",
    "        self.balance_heaps()\n",
    "\n",
    "    def remove_num(self, num, index):\n",
    "        self.delayed[num] = self.delayed.get(num, 0) + 1\n",
    "        if num <= -self.max_heap[0]:\n",
    "            if num == -self.max_heap[0]:\n",
    "                heapq.heappop(self.max_heap)\n",
    "            else:\n",
    "                self.balance_heaps()\n",
    "        else:\n",
    "            if num == self.min_heap[0]:\n",
    "                heapq.heappop(self.min_heap)\n",
    "            else:\n",
    "                self.balance_heaps()\n",
    "        self.balance_heaps()\n",
    "\n",
    "    def balance_heaps(self):\n",
    "        if len(self.max_heap) > len(self.min_heap) + 1:\n",
    "            heapq.heappush(self.min_heap, -heapq.heappop(self.max_heap))\n",
    "        elif len(self.max_heap) < len(self.min_heap):\n",
    "            heapq.heappush(self.max_heap, -heapq.heappop(self.min_heap))\n",
    "\n",
    "        while self.max_heap and self.delayed.get(-self.max_heap[0], 0):\n",
    "            delayed_num = -heapq.heappop(self.max_heap)\n",
    "            self.delayed[delayed_num] -= 1\n",
    "            if self.delayed[delayed_num] == 0:\n",
    "                del self.delayed[delayed_num]\n",
    "                \n",
    "        while self.min_heap and self.delayed.get(self.min_heap[0], 0):\n",
    "            delayed_num = heapq.heappop(self.min_heap)\n",
    "            self.delayed[delayed_num] -= 1\n",
    "            if self.delayed[delayed_num] == 0:\n",
    "                del self.delayed[delayed_num]\n",
    "\n",
    "    def get_median(self):\n",
    "        if len(self.max_heap) > len(self.min_heap):\n",
    "            return float(-self.max_heap[0])\n",
    "        else:\n",
    "            return (-self.max_heap[0] + self.min_heap[0]) / 2.0\n",
    "\n",
    "def medianSlidingWindow(nums, k):\n",
    "    result = []\n",
    "    sliding_window_median = SlidingWindowMedian()\n",
    "    \n",
    "    for i in range(len(nums)):\n",
    "        sliding_window_median.add_num(nums[i], i)\n",
    "        \n",
    "        if i >= k - 1:\n",
    "            result.append(sliding_window_median.get_median())\n",
    "            sliding_window_median.remove_num(nums[i - k + 1], i - k + 1)\n",
    "    \n",
    "    return result\n",
    "\n",
    "# Example usage\n",
    "nums = [1,3,-1,-3,5,3,6,7]\n",
    "k = 3\n",
    "print(medianSlidingWindow(nums, k))  # Output: [1.0, -1.0, -1.0, 3.0, 5.0, 6.0]\n"
   ]
  },
  {
   "cell_type": "code",
   "execution_count": null,
   "metadata": {},
   "outputs": [],
   "source": []
  },
  {
   "cell_type": "code",
   "execution_count": 8,
   "metadata": {},
   "outputs": [
    {
     "name": "stdout",
     "output_type": "stream",
     "text": [
      "[1, -1, -1, 3, 5, 6]\n"
     ]
    }
   ],
   "source": [
    "import heapq\n",
    "\n",
    "def medianSlidingWindow(nums, k):\n",
    "    def add(num, min_heap, max_heap):\n",
    "        if len(max_heap) == 0 or num <= -max_heap[0]:\n",
    "            heapq.heappush(max_heap, -num)\n",
    "        else:\n",
    "            heapq.heappush(min_heap, num)\n",
    "        if len(max_heap) > len(min_heap) + 1:\n",
    "            heapq.heappush(min_heap, -heapq.heappop(max_heap))\n",
    "        if len(min_heap) > len(max_heap):\n",
    "            heapq.heappush(max_heap, -heapq.heappop(min_heap))\n",
    "\n",
    "    def remove(num, min_heap, max_heap):\n",
    "        if num <= -max_heap[0]:\n",
    "            max_heap.remove(-num)\n",
    "            heapq.heapify(max_heap)\n",
    "        else:\n",
    "            min_heap.remove(num)\n",
    "            heapq.heapify(min_heap)\n",
    "        if len(max_heap) > len(min_heap) + 1:\n",
    "            heapq.heappush(min_heap, -heapq.heappop(max_heap))\n",
    "        if len(min_heap) > len(max_heap):\n",
    "            heapq.heappush(max_heap, -heapq.heappop(min_heap))\n",
    "\n",
    "    def get_median(min_heap, max_heap, k):\n",
    "        if k % 2 == 0:\n",
    "            return (-max_heap[0] + min_heap[0]) / 2.0\n",
    "        return -max_heap[0]\n",
    "\n",
    "    result = []\n",
    "    min_heap, max_heap = [], []\n",
    "    for i in range(len(nums)):\n",
    "        add(nums[i], min_heap, max_heap)\n",
    "        if i >= k:\n",
    "            remove(nums[i - k], min_heap, max_heap)\n",
    "        if i >= k - 1:\n",
    "            result.append(get_median(min_heap, max_heap, k))\n",
    "    return result\n",
    "\n",
    "# Example usage\n",
    "nums = [1, 3, -1, -3, 5, 3, 6, 7]\n",
    "k = 3\n",
    "print(medianSlidingWindow(nums, k))\n"
   ]
  },
  {
   "cell_type": "code",
   "execution_count": null,
   "metadata": {},
   "outputs": [],
   "source": []
  },
  {
   "cell_type": "code",
   "execution_count": null,
   "metadata": {},
   "outputs": [],
   "source": []
  },
  {
   "cell_type": "code",
   "execution_count": null,
   "metadata": {},
   "outputs": [],
   "source": []
  },
  {
   "cell_type": "code",
   "execution_count": null,
   "metadata": {},
   "outputs": [],
   "source": []
  },
  {
   "cell_type": "code",
   "execution_count": 12,
   "metadata": {},
   "outputs": [],
   "source": [
    "# # holiday\n",
    "# we can build the whole graph of options where each level is the current week\n",
    "# Following the example above, root node will be empty, each level is the accumulative per option on the weeks\n",
    "\n",
    "\n",
    "class Solution:\n",
    "    def maxVacationDays(self, flights: List[List[int]], days: List[List[int]]) -> int:\n",
    "        n, k = len(days), len(days[0]) # n cities, k weeks\n",
    "        max_vacation = [0] + [float('-inf') for _ in range(n-1)]\n",
    "\n",
    "        for week in range(k):\n",
    "            curr = [float('-inf') for _ in range(n)]\n",
    "\n",
    "            for dep_city in range(n):\n",
    "                for arr_city, flight_exists in enumerate(flights[dep_city]):\n",
    "                    if flight_exists or dep_city == arr_city:\n",
    "                        curr[arr_city] = max(curr[arr_city], max_vacation[dep_city] + days[arr_city][week])\n",
    "\n",
    "            max_vacation = curr\n",
    "\n",
    "        return max(max_vacation)\n",
    "        \n",
    "        "
   ]
  },
  {
   "cell_type": "markdown",
   "metadata": {},
   "source": [
    "Define the DP Table: Create a DP table where dp[i][j] represents the maximum vacation days you can accumulate up to week j when you are in city i.\n",
    "\n",
    "Initialization: Initialize the first week, dp[i][0], with the vacation days in the respective cities if you can fly there from city 0.\n",
    "\n",
    "Transition: For each subsequent week, calculate the maximum vacation days you can accumulate by flying to or staying in a city.\n",
    "\n",
    "Result: The result will be the maximum value in the last column of the DP table, which represents the maximum vacation days by the end of the last week."
   ]
  },
  {
   "cell_type": "code",
   "execution_count": 11,
   "metadata": {},
   "outputs": [
    {
     "name": "stdout",
     "output_type": "stream",
     "text": [
      "12\n"
     ]
    }
   ],
   "source": [
    "\n",
    "\n",
    "def maxVacationDays(flights, days):\n",
    "    n = len(flights)\n",
    "    k = len(days[0])\n",
    "    \n",
    "    # Initialize the dp table with -1 (impossible states)\n",
    "    dp = [[-1] * k for _ in range(n)]\n",
    "    \n",
    "    # Initial state: the first week in the city 0\n",
    "    dp[0][0] = days[0][0]\n",
    "    \n",
    "    for i in range(1, n):\n",
    "        if flights[0][i] == 1:\n",
    "            dp[i][0] = days[i][0]\n",
    "    \n",
    "    # Fill the DP table week by week\n",
    "    for week in range(1, k):\n",
    "        for city in range(n):\n",
    "            if dp[city][week - 1] != -1:  # Only consider reachable cities\n",
    "                for next_city in range(n):\n",
    "                    if city == next_city or flights[city][next_city] == 1:\n",
    "                        dp[next_city][week] = max(dp[next_city][week], dp[city][week - 1] + days[next_city][week])\n",
    "    \n",
    "    # The result is the maximum vacation days possible by the last week\n",
    "    return max(dp[city][k - 1] for city in range(n))\n",
    "\n",
    "# Example usage\n",
    "flights = [[0,1,1],[1,0,1],[1,1,0]]\n",
    "days = [[1,3,1],[6,0,3],[3,3,3]]\n",
    "print(maxVacationDays(flights, days))  # Output: 12\n"
   ]
  },
  {
   "cell_type": "code",
   "execution_count": null,
   "metadata": {},
   "outputs": [],
   "source": []
  },
  {
   "cell_type": "code",
   "execution_count": null,
   "metadata": {},
   "outputs": [],
   "source": []
  },
  {
   "cell_type": "code",
   "execution_count": null,
   "metadata": {},
   "outputs": [],
   "source": []
  },
  {
   "cell_type": "code",
   "execution_count": null,
   "metadata": {},
   "outputs": [],
   "source": []
  },
  {
   "cell_type": "code",
   "execution_count": null,
   "metadata": {},
   "outputs": [],
   "source": []
  },
  {
   "cell_type": "code",
   "execution_count": null,
   "metadata": {},
   "outputs": [],
   "source": []
  },
  {
   "cell_type": "code",
   "execution_count": null,
   "metadata": {},
   "outputs": [],
   "source": []
  },
  {
   "cell_type": "code",
   "execution_count": null,
   "metadata": {},
   "outputs": [],
   "source": [
    "DS\n",
    "The MSE is calculated as the average of the squared differences between the predicted values and the actual values.\n",
    "\n",
    "\n",
    "\n",
    "import numpy as np\n",
    "import pandas as pd\n",
    "from sklearn.model_selection import train_test_split\n",
    "from sklearn.linear_model import LinearRegression\n",
    "from sklearn.metrics import mean_squared_error\n",
    "from sklearn.preprocessing import StandardScaler\n",
    "import matplotlib.pyplot as plt\n",
    "\n",
    "# Load dataset\n",
    "data = pd.read_csv('data.csv')\n",
    "X = data['money'].values.reshape(-1, 1)\n",
    "y = data['cost'].values\n",
    "\n",
    "# Split the data\n",
    "X_train, X_test, y_train, y_test = train_test_split(X, y, test_size=0.2, random_state=42)\n",
    "\n",
    "# Detect and remove outliers (using Z-score method)\n",
    "from scipy import stats\n",
    "z_scores = np.abs(stats.zscore(X_train))\n",
    "X_train = X_train[z_scores < 3]\n",
    "y_train = y_train[z_scores < 3]\n",
    "\n",
    "# Train the model\n",
    "model = LinearRegression()\n",
    "model.fit(X_train, y_train)\n",
    "\n",
    "# Predict\n",
    "y_pred = model.predict(X_test)\n",
    "\n",
    "# Evaluate\n",
    "mse = mean_squared_error(y_test, y_pred)\n",
    "print(f'Mean Squared Error: {mse}')\n",
    "\n",
    "# Visualize\n",
    "plt.scatter(X_test, y_test, color='blue', label='Actual')\n",
    "plt.plot(X_test, y_pred, color='red', label='Predicted')\n",
    "plt.xlabel('Money')\n",
    "plt.ylabel('Cost')\n",
    "plt.title('Linear Regression Fit')\n",
    "plt.legend()\n",
    "plt.show()\n"
   ]
  }
 ],
 "metadata": {
  "kernelspec": {
   "display_name": "Python 3",
   "language": "python",
   "name": "python3"
  },
  "language_info": {
   "codemirror_mode": {
    "name": "ipython",
    "version": 3
   },
   "file_extension": ".py",
   "mimetype": "text/x-python",
   "name": "python",
   "nbconvert_exporter": "python",
   "pygments_lexer": "ipython3",
   "version": "3.8.3"
  }
 },
 "nbformat": 4,
 "nbformat_minor": 4
}
